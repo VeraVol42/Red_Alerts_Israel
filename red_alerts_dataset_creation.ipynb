{
 "cells": [
  {
   "cell_type": "markdown",
   "id": "660e5a1e-fc71-4cef-adea-6213d39404ad",
   "metadata": {},
   "source": [
    "# Temporal and Spatial Analysis of Red Alerts in Israel"
   ]
  },
  {
   "cell_type": "code",
   "execution_count": 128,
   "id": "a69c110c-716c-4917-a6ff-26dde87d2972",
   "metadata": {},
   "outputs": [],
   "source": [
    "from bs4 import BeautifulSoup\n",
    "import pandas as pd\n",
    "import os\n",
    "import re\n",
    "from collections import Counter\n",
    "from scipy.interpolate import make_interp_spline\n",
    "import numpy as np"
   ]
  },
  {
   "cell_type": "markdown",
   "id": "1722e33b-33c3-41b0-bcc3-ec08c2f185b5",
   "metadata": {},
   "source": [
    "# Data extraction\n",
    "\n",
    "The data used in this analysis was obtained from the [Cumta Telegram channel](https://t.me/CumtaAlertsEnglishChannel), which provides real-time alerts about rocket sirens (Red Alerts) in Israel. The channel broadcasts information about alerts, including affected regions, cities, and timestamps. The dataset consists of extracted historical messages from this channel for further analysis and visualization."
   ]
  },
  {
   "cell_type": "code",
   "execution_count": null,
   "id": "d5edc031-4485-485d-af00-ee5fb83a3c45",
   "metadata": {},
   "outputs": [],
   "source": [
    "# Path to the folder containing files\n",
    "path_to_files = r\"C:\\Users\\Vera\\Documents\\DA Practicum\\work files\\datasets\\cumta\"\n",
    "\n",
    "# Create an empty list to store data\n",
    "data = []\n",
    "\n",
    "# Iterate over all files with the prefix 'messages'\n",
    "for file in os.listdir(path_to_files):\n",
    "    if file.startswith('messages') and file.endswith('.html'):\n",
    "        # Open the file in UTF-8 encoding\n",
    "        with open(os.path.join(path_to_files, file), 'r', encoding='utf-8') as f:\n",
    "            soup = BeautifulSoup(f, 'html.parser')\n",
    "            \n",
    "            # Process messages and find associated dates\n",
    "            for msg in soup.find_all('div', class_='text'):\n",
    "                # Find the nearest previous date element\n",
    "                date = msg.find_previous('div', class_='pull_right date details')\n",
    "                data.append({\n",
    "                    'date': date['title'] if date and 'title' in date.attrs else None,\n",
    "                    'text': msg.text.strip()\n",
    "                })\n",
    "\n",
    "# Convert the collected data into a DataFrame\n",
    "raw_df = pd.DataFrame(data)\n",
    "\n",
    "raw_df\n"
   ]
  },
  {
   "cell_type": "markdown",
   "id": "29c0b41a-30ef-4608-a224-983ebb012de4",
   "metadata": {},
   "source": [
    "#  Data preprocessing\n",
    "## Creating a general dataset"
   ]
  },
  {
   "cell_type": "code",
   "execution_count": null,
   "id": "f4022b16-36c1-4a76-ba47-af24f75a5fc3",
   "metadata": {},
   "outputs": [],
   "source": [
    "# Convert the 'date' column to datetime format with dayfirst=True\n",
    "raw_df['date'] = pd.to_datetime(raw_df['date'], dayfirst=True)\n",
    "\n",
    "# Sort the DataFrame by date in ascending order\n",
    "raw_df = raw_df.sort_values(by='date', ascending=True).reset_index(drop=True)\n",
    "\n",
    "# Checking the minimum and maximum dates in the dataset\n",
    "print(f\"Minimum date: {raw_df['date'].min()}\")\n",
    "print(f\"Maximum date: {raw_df['date'].max()}\")\n"
   ]
  },
  {
   "cell_type": "code",
   "execution_count": null,
   "id": "d529a4ef-a135-4435-afac-3d3d92b884b2",
   "metadata": {},
   "outputs": [],
   "source": [
    "# Check\n",
    "raw_df"
   ]
  },
  {
   "cell_type": "code",
   "execution_count": null,
   "id": "6935b41f-3409-4901-a776-25ed2696d2ce",
   "metadata": {},
   "outputs": [],
   "source": [
    "# Delete rows where the value in the date column is NaT\n",
    "raw_df = raw_df.dropna(subset=['date']).reset_index(drop=True)\n",
    "raw_df"
   ]
  },
  {
   "cell_type": "code",
   "execution_count": null,
   "id": "038729a6-b5c4-4e6a-8c97-4d433f0d521c",
   "metadata": {},
   "outputs": [],
   "source": [
    "# Display general information \n",
    "raw_df.info()"
   ]
  },
  {
   "cell_type": "code",
   "execution_count": null,
   "id": "056e46b1-5600-4fe3-b1ba-3912d24b67e4",
   "metadata": {},
   "outputs": [],
   "source": [
    "# --- Hidden because of the large size ---\n",
    "# Let's see the whole dataframe\n",
    "#raw_df.to_string()"
   ]
  },
  {
   "cell_type": "code",
   "execution_count": null,
   "id": "27631486-998f-4d82-8daa-364ec8144307",
   "metadata": {},
   "outputs": [],
   "source": [
    "# A function for determining the type of threat\n",
    "def extract_threat_type(text):\n",
    "    if text.startswith(\"Red Alert\") or text.startswith(\"An alert\"):\n",
    "        return \"Red Alert\"\n",
    "    elif text.startswith(\"Unrecognized Aircraft\"):\n",
    "        return \"Unrecognized Aircraft\"\n",
    "    elif text.startswith(\"An unrecognized aircraft\"):\n",
    "        return \"Unrecognized Aircraft\"\n",
    "    elif text.startswith(\"Terrorist Infiltration\"):\n",
    "        return \"Terrorist Infiltration\"\n",
    "    elif text.startswith(\"Earthquake\"):\n",
    "        return \"Earthquake\"\n",
    "    elif text.startswith(\"Interception pieces\"):\n",
    "        return \"Interception pieces\"\n",
    "    return None\n",
    "\n",
    "# Removing update messages (starting with 'Good morning', 'Dear' or similar)\n",
    "raw_df = raw_df[~raw_df['text'].str.lower().str.startswith(('good', 'starting', \n",
    "                                                            'dear', \"home\", \n",
    "                                                            'a new'))].reset_index(drop=True)\n",
    "\n",
    "raw_df = raw_df.copy()\n",
    "raw_df['threat_type'] = raw_df['text'].apply(extract_threat_type)\n"
   ]
  },
  {
   "cell_type": "code",
   "execution_count": null,
   "id": "4a0b2ad8-33cb-436f-b159-65dfb2566f3e",
   "metadata": {},
   "outputs": [],
   "source": [
    "# A function for extracting a region\n",
    "def extract_region(text):\n",
    "    match = re.search(r'at (.*?) \\[\\d{2}:\\d{2}\\]', text)\n",
    "    return match.group(1).strip() if match else None\n",
    "\n",
    "# A function for extracting time\n",
    "def extract_time(text):\n",
    "    match = re.search(r'\\[(\\d{2}:\\d{2})\\]', text)\n",
    "    return match.group(1) if match else None\n",
    "\n",
    "# Functions for extracting major cities and regional councils\n",
    "\n",
    "def extract_major_cities(text):\n",
    "    match = re.search(r'[Mm]ajor [Cc]ities: (.+?)(?:\\|\\||$)', text)\n",
    "    return match.group(1).strip() if match else None\n",
    "\n",
    "def extract_regional_councils(text):\n",
    "    match = re.search(r'Regional Councils: (.+?)\\|\\|', text)\n",
    "    return match.group(1).strip() if match else None\n",
    "\n",
    "# Adding new columns\n",
    "raw_df['region'] = raw_df['text'].apply(extract_region)\n",
    "raw_df['major_cities'] = raw_df['text'].apply(extract_major_cities)\n",
    "raw_df['regional_councils'] = raw_df['text'].apply(extract_regional_councils)\n",
    "\n",
    "# Resetting the index for the resulting DataFrame\n",
    "raw_df.reset_index(drop=True, inplace=True)"
   ]
  },
  {
   "cell_type": "code",
   "execution_count": null,
   "id": "99d48927-546e-4b3e-b5a3-27d5ff296a03",
   "metadata": {
    "scrolled": true
   },
   "outputs": [],
   "source": [
    "# Check\n",
    "raw_df"
   ]
  },
  {
   "cell_type": "markdown",
   "id": "406309e6-5050-4ec1-9ea0-804e23bfe75f",
   "metadata": {},
   "source": [
    "### 1 st october 2024 check\n",
    "Let's check how strings are stored during very powerful attacks, when a lot of settlements were involved."
   ]
  },
  {
   "cell_type": "code",
   "execution_count": null,
   "id": "2854f12b-1abc-4761-8cd1-21e366d3ee62",
   "metadata": {},
   "outputs": [],
   "source": [
    "# looking at the lines with the date of October 1, 2024 from 19 to 20 (the Iranian attack)\n",
    "raw_df[\n",
    "    (raw_df['date'] >= '2024-10-01 19:00:00') &\n",
    "    (raw_df['date'] < '2024-10-01 20:00:00')\n",
    "]"
   ]
  },
  {
   "cell_type": "code",
   "execution_count": null,
   "id": "a3f5f83a-8224-4056-adb7-ecce38f6505a",
   "metadata": {},
   "outputs": [],
   "source": [
    "# Checking the text in the 'text' column (row 5643)\n",
    "raw_df.loc[5641, 'text']"
   ]
  },
  {
   "cell_type": "code",
   "execution_count": null,
   "id": "bcfb18d5-0599-4485-bd86-a3e6d5a5622b",
   "metadata": {},
   "outputs": [],
   "source": [
    "raw_df.loc[5642, 'text']"
   ]
  },
  {
   "cell_type": "code",
   "execution_count": null,
   "id": "5b3cf9b7",
   "metadata": {},
   "outputs": [],
   "source": [
    "raw_df.loc[5643, 'text']"
   ]
  },
  {
   "cell_type": "code",
   "execution_count": null,
   "id": "a3aa19ca",
   "metadata": {},
   "outputs": [],
   "source": [
    "raw_df.loc[5644, 'text']"
   ]
  },
  {
   "cell_type": "markdown",
   "id": "c44b6ccf-0e02-4af6-9dad-576f95bf8435",
   "metadata": {},
   "source": [
    "The information in the 'text' column gets truncated. The reason for this truncation is that a single message we want to process is split across multiple **div class=\"text\"** blocks. The code processes only one **div class=\"text\"** at a time without combining them into a single message. As a result, the message text is incomplete, and subsequent parts are saved as separate rows.\n",
    "\n",
    "Rows that start with messages like \"• Center Negev - Dvira Junction,\" have None in the threat_type, region, and time columns but actually belong to the previous message. We can process these rows by taking the threat_type from the previous message. If the text starts with \"• \", we append this text to the text field of the previous row and then delete the current row."
   ]
  },
  {
   "cell_type": "code",
   "execution_count": null,
   "id": "2a489e50-4e2c-4e74-9412-61288c15c5d3",
   "metadata": {},
   "outputs": [],
   "source": [
    "# Sort indices in descending order to avoid conflicts when modifying rows\n",
    "for idx in sorted(raw_df[raw_df['text'].str.match(r\"\\d{2}/\\d{2}/\\d{4} \\d{2}:\\d{2}:\\d{2}:|• \", \n",
    "                                                  na=False)].index, reverse=True):\n",
    "    # Check if the previous row exists\n",
    "    if idx - 1 in raw_df.index:\n",
    "        # Append the current text to the 'text' of the previous row\n",
    "        raw_df.loc[idx - 1, 'text'] += f\" {raw_df.loc[idx, 'text']}\"\n",
    "        # Drop the current row\n",
    "        raw_df.drop(index=idx, inplace=True)\n",
    "\n",
    "# Reset the index after modifications\n",
    "raw_df.reset_index(drop=True, inplace=True)"
   ]
  },
  {
   "cell_type": "code",
   "execution_count": null,
   "id": "6aeb0077-e7e5-46bc-9d2c-82787e9fba84",
   "metadata": {},
   "outputs": [],
   "source": [
    "# Checking problematic rows (1 st october 2024, 19.00-20.00)\n",
    "raw_df[\n",
    "    (raw_df['date'] >= '2024-10-01 19:00:00') &\n",
    "    (raw_df['date'] < '2024-10-01 20:00:00')\n",
    "]"
   ]
  },
  {
   "cell_type": "code",
   "execution_count": null,
   "id": "0f031179-fca7-4b57-bb30-3f54d36a4f80",
   "metadata": {},
   "outputs": [],
   "source": [
    "# Check problematic srting\n",
    "raw_df.loc[5626, 'text']"
   ]
  },
  {
   "cell_type": "markdown",
   "id": "ab1b5c4f-d8f4-4dcb-ab27-53c2ee98f5a8",
   "metadata": {},
   "source": [
    "Now these strings are OK."
   ]
  },
  {
   "cell_type": "code",
   "execution_count": null,
   "id": "ada47e46-2683-40c2-9cdb-4d1ab5e57968",
   "metadata": {},
   "outputs": [],
   "source": [
    "# Merge rows where 'text' starts with '||' into the previous row\n",
    "for idx in sorted(\n",
    "    raw_df[raw_df['text'].str.startswith('||', na=False)].index, \n",
    "    reverse=True\n",
    "):\n",
    "    if idx - 1 in raw_df.index:\n",
    "        raw_df.loc[idx - 1, 'major_cities'] = (\n",
    "            f\"{raw_df.loc[idx - 1, 'major_cities']} {raw_df.loc[idx, 'major_cities']}\".strip()\n",
    "        )\n",
    "        raw_df.loc[idx - 1, 'regional_councils'] = (\n",
    "            f\"{raw_df.loc[idx - 1, 'regional_councils']} {raw_df.loc[idx, 'regional_councils']}\".strip()\n",
    "        )\n",
    "        raw_df.drop(index=idx, inplace=True)\n",
    "\n",
    "\n",
    "# Reset the index after modifications\n",
    "raw_df.reset_index(drop=True, inplace=True)\n",
    "\n",
    "# Display the updated DataFrame\n",
    "raw_df\n"
   ]
  },
  {
   "cell_type": "markdown",
   "id": "d2f4311c-c28e-46cb-91a5-f05f2717a34e",
   "metadata": {},
   "source": [
    "Everything is fine now"
   ]
  },
  {
   "cell_type": "code",
   "execution_count": null,
   "id": "07dade00-4ad0-498a-a45d-25d1ccb19dad",
   "metadata": {},
   "outputs": [],
   "source": [
    "raw_df.info()"
   ]
  },
  {
   "cell_type": "code",
   "execution_count": null,
   "id": "dc0c18cb-2335-4555-ab02-2c6ca6de6ecc",
   "metadata": {},
   "outputs": [],
   "source": [
    "# Checking how useful the \"major_cities\" column is\n",
    "print('Number of major cities:', raw_df['major_cities'].nunique())\n",
    "raw_df['major_cities'].unique()"
   ]
  },
  {
   "cell_type": "code",
   "execution_count": null,
   "id": "e8cd2128-909d-4320-a2be-d497bedf0b83",
   "metadata": {},
   "outputs": [],
   "source": [
    "raw_df['major_cities'].value_counts().to_frame()"
   ]
  },
  {
   "cell_type": "markdown",
   "id": "0420597f-abde-4d9d-b474-5f4d3f4558eb",
   "metadata": {},
   "source": [
    "Let's see how useful the 'major_cities' and 'regional_councils' columns are."
   ]
  },
  {
   "cell_type": "code",
   "execution_count": null,
   "id": "5658cd01-0957-428b-9b73-4391c11bf307",
   "metadata": {},
   "outputs": [],
   "source": [
    "# Count the number of values that are either \"None\" (as a string) or missing (NaN, None)\n",
    "none_count = raw_df['major_cities'].apply(lambda x: x == \"None\" or pd.isna(x)).sum()\n",
    "none_count_rc = raw_df['regional_councils'].apply(lambda x: x == \"None\" or pd.isna(x)).sum()\n",
    "\n",
    "print(f\"Number of rows with 'None' or missing values in major_cities: {none_count}\")\n",
    "print(f\"Number of rows with 'None' or missing values in regional_councils: {none_count_rc}\")"
   ]
  },
  {
   "cell_type": "markdown",
   "id": "631fdb4b-8905-4e34-8a36-1cfa145dbee2",
   "metadata": {},
   "source": [
    "There are too many rows with missing values, meaning the columns are not very useful. I will not use it in the future."
   ]
  },
  {
   "cell_type": "markdown",
   "id": "ab3bf81e-cd4a-4a13-952b-1aeafcca2d64",
   "metadata": {},
   "source": [
    "**Raw_df Processing Summary**  \r\n",
    "\r\n",
    "- **Extracted** data from **Telegram messages**.  \r\n",
    "- **Removed** irrelevant rows (NaT dates, update messages).  \r\n",
    "- **Fixed truncated messages** caused by split `div class=\"text\"` blocks.  \r\n",
    "- **Merged fragmented rows** (e.g., those starting with \"•\") into previous messages.  \r\n",
    "- **Analyzed missing values**:  \r\n",
    "  - `major_cities`: **4250 missing**  \r\n",
    "  - `regional_councils`: **6613 missing**  \r\n",
    "  - **Decided to exclude these columns** due to high data loss.  \r\n",
    "\r\n",
    "The dataset is now cleaned, structured, and ready for further analysis."
   ]
  },
  {
   "cell_type": "markdown",
   "id": "18d37c4f-96c6-4ef7-9dd8-fba5ddfd64c6",
   "metadata": {},
   "source": [
    "## Creating a dataset with an indication of detailed localities"
   ]
  },
  {
   "cell_type": "code",
   "execution_count": null,
   "id": "f5cc1fbf-db7f-4dd9-a7ed-599130df93d2",
   "metadata": {},
   "outputs": [],
   "source": [
    "def extract_alerts(text):\n",
    "    alerts = []\n",
    "    \n",
    "    # Regex pattern for datetime in the format \"DD/MM/YYYY HH:MM:SS:\"\n",
    "    date_pattern = re.compile(r'(\\d{2}/\\d{2}/\\d{4} \\d{2}:\\d{2}:\\d{2}):')\n",
    "    \n",
    "    # Find the first date occurrence and remove content before it\n",
    "    first_date_match = date_pattern.search(text)\n",
    "    if not first_date_match:\n",
    "        return alerts  # If no date found, return an empty list\n",
    "    text = text[first_date_match.start():]\n",
    "    \n",
    "    # Remove any content after the first occurrence of \"||\"\n",
    "    if \"||\" in text:\n",
    "        text = text.split(\"||\")[0]\n",
    "    \n",
    "    # Regex to split the text into blocks (each block starts with a datetime)\n",
    "    block_pattern = re.compile(\n",
    "        r'(\\d{2}/\\d{2}/\\d{4} \\d{2}:\\d{2}:\\d{2}):'\n",
    "        r'(.*?)(?=(\\d{2}/\\d{2}/\\d{4} \\d{2}:\\d{2}:\\d{2}:)|$)',\n",
    "        re.DOTALL\n",
    "    )\n",
    "    \n",
    "    # Iterate over each alert block\n",
    "    for block_match in block_pattern.finditer(text):\n",
    "        dt = block_match.group(1).strip()         # Extracted datetime\n",
    "        block_text = block_match.group(2).strip()   # Text following the datetime\n",
    "        \n",
    "        # Split block text using bullet (•)\n",
    "        bullet_parts = [\n",
    "            part.strip() for part in re.split(r'\\u2022', block_text)\n",
    "            if part.strip()\n",
    "        ]\n",
    "        \n",
    "        for part in bullet_parts:\n",
    "            # Remove unwanted phrases such as \"Click here to open an interactive map\"\n",
    "            # and \"Sent by @CumtaAlertsEnglishChannel\"\n",
    "            part = re.sub(\n",
    "                r'(Click here to open an interactive map|Sent by @CumtaAlertsEnglishChannel).*$', \n",
    "                '', part\n",
    "            ).strip()\n",
    "            \n",
    "            # Determine if we use a dash (-) or a colon (:) as the separator\n",
    "            dash_pos = part.find('-')\n",
    "            colon_pos = part.find(':')\n",
    "            \n",
    "            if dash_pos != -1 and (colon_pos == -1 or dash_pos < colon_pos):\n",
    "                # Case 1: \"Region - locality1, locality2, ...\"\n",
    "                region_part, localities_part = part.split('-', 1)\n",
    "            elif colon_pos != -1:\n",
    "                # Case 2: \"Region: locality1, locality2, ...\"\n",
    "                region_part, localities_part = part.split(':', 1)\n",
    "            else:\n",
    "                continue  # If neither separator exists, skip this entry\n",
    "            \n",
    "            # Clean up the extracted region name\n",
    "            region = region_part.strip()\n",
    "            region = re.sub(\n",
    "                r'(Click here to open an interactive map|Sent by @CumtaAlertsEnglishChannel).*$', \n",
    "                '', region\n",
    "            ).strip()\n",
    "            region = region.rstrip(':- ').strip()\n",
    "            \n",
    "            # Clean localities\n",
    "            localities_part = re.sub(\n",
    "                r'(Click here to open an interactive map|Sent by @CumtaAlertsEnglishChannel).*$', \n",
    "                '', localities_part\n",
    "            ).strip()\n",
    "            localities = [loc.strip() for loc in localities_part.split(',') if loc.strip()]\n",
    "            \n",
    "            # If a region name is too generic, treat it as part of the locality\n",
    "            generic_regions = {\"Dan Area\", \"Lachish Area\", \"HaSharon Region\", \"Negev Region\"}\n",
    "            if region in generic_regions:\n",
    "                for loc in localities:\n",
    "                    alerts.append({\n",
    "                        'datetime': dt,\n",
    "                        'region': loc,\n",
    "                        'locality': region\n",
    "                    })  # Swap region/locality\n",
    "            else:\n",
    "                for loc in localities:\n",
    "                    alerts.append({\n",
    "                        'datetime': dt,\n",
    "                        'region': region,\n",
    "                        'locality': loc\n",
    "                    })  # Normal case\n",
    "    \n",
    "    return alerts\n",
    "\n",
    "# Process each row in raw_df to extract alerts\n",
    "all_rows = []\n",
    "for _, row in raw_df.iterrows():\n",
    "    text = row['text']\n",
    "    threat_type = row['threat_type']\n",
    "    alerts = extract_alerts(text)\n",
    "    for alert in alerts:\n",
    "        alert['threat_type'] = threat_type\n",
    "        all_rows.append(alert)\n",
    "\n",
    "# Create a new DataFrame with detailed alerts\n",
    "detailed_df = pd.DataFrame(all_rows)"
   ]
  },
  {
   "cell_type": "code",
   "execution_count": null,
   "id": "c11d812a-c944-4223-a3e6-01fd1a6cd30f",
   "metadata": {},
   "outputs": [],
   "source": [
    "detailed_df"
   ]
  },
  {
   "cell_type": "code",
   "execution_count": null,
   "id": "66ac4f77-f7b2-4fa3-abc2-650fd08dc0e2",
   "metadata": {},
   "outputs": [],
   "source": [
    "# looking at the lines with the date of October 1, 2024 from 19 to 20 (the Iranian attack)\n",
    "detailed_df[\n",
    "    (detailed_df['datetime'] >= '01/10/2024 19:50:00') &\n",
    "    (detailed_df['datetime'] < '01/10/2024 20:00:00')\n",
    "].tail(20)"
   ]
  },
  {
   "cell_type": "code",
   "execution_count": null,
   "id": "6aa3836e-c157-45e7-a5ae-bb6fbdad1456",
   "metadata": {},
   "outputs": [],
   "source": [
    "detailed_df.info()"
   ]
  },
  {
   "cell_type": "code",
   "execution_count": null,
   "id": "897d0848-7384-4c34-a9ef-0484f96cd30f",
   "metadata": {},
   "outputs": [],
   "source": [
    "detailed_df['datetime'] = pd.to_datetime(detailed_df['datetime'], dayfirst=True, errors='coerce')"
   ]
  },
  {
   "cell_type": "code",
   "execution_count": null,
   "id": "90c122fc-dd89-4848-ab46-ee9bcf035ee1",
   "metadata": {},
   "outputs": [],
   "source": [
    "# Let's check what the contents of the first row of the column 'text' look like.\n",
    "raw_df.loc[0, 'text']"
   ]
  },
  {
   "cell_type": "code",
   "execution_count": null,
   "id": "d4dd65f6-b1ce-4ea2-8602-dad5af82c247",
   "metadata": {},
   "outputs": [],
   "source": [
    "# Check\n",
    "detailed_df.head(20)"
   ]
  },
  {
   "cell_type": "markdown",
   "id": "af94cb3d-50dd-45c3-b7a8-fc9786aea39a",
   "metadata": {},
   "source": [
    "### ⚠ Checking the distribution of data by year"
   ]
  },
  {
   "cell_type": "code",
   "execution_count": null,
   "id": "c269e0ba-44df-45ca-b8d4-3b00f438ad71",
   "metadata": {},
   "outputs": [],
   "source": [
    "# Convert the 'time' column to datetime format\n",
    "detailed_df['datetime'] = pd.to_datetime(detailed_df['datetime'], \n",
    "                                         errors='coerce', format='%d/%m/%Y %H:%M:%S')\n",
    "\n",
    "# Extract the year from the datetime column\n",
    "detailed_df['year'] = detailed_df['datetime'].dt.year\n",
    "\n",
    "# Count the number of warnings per year\n",
    "warnings_by_year = detailed_df['year'].value_counts().sort_index()\n",
    "\n",
    "# Calculate the percentage each year represents\n",
    "percentages = (warnings_by_year / warnings_by_year.sum()) * 100\n",
    "\n",
    "# Combine counts and percentages into a DataFrame\n",
    "result_df = pd.DataFrame({\n",
    "    'Count': warnings_by_year,\n",
    "    'Percentage': percentages.round(2).astype(str) + '%'\n",
    "})\n",
    "\n",
    "# Display the result\n",
    "print('Distribution of data by year in detailed_df:')\n",
    "result_df"
   ]
  },
  {
   "cell_type": "code",
   "execution_count": null,
   "id": "2534eff7-2666-455f-9b99-9adb0f5abc44",
   "metadata": {},
   "outputs": [],
   "source": [
    "# Use the existing 'date' column which already contains datetime values\n",
    "raw_df['year'] = raw_df['date'].dt.year\n",
    "\n",
    "# Count the number of alerts per year\n",
    "warnings_by_year = raw_df['year'].value_counts().sort_index()\n",
    "\n",
    "# Calculate the percentage each year represents\n",
    "percentages = (warnings_by_year / warnings_by_year.sum()) * 100\n",
    "\n",
    "# Combine counts and percentages into a DataFrame\n",
    "raw_result_df = pd.DataFrame({\n",
    "    'Count': warnings_by_year,\n",
    "    'Percentage': percentages.round(2).astype(str) + '%'  # Append '%' to the rounded percentages\n",
    "})\n",
    "\n",
    "# Display the result\n",
    "print('Distribution of data by year in raw_df:')\n",
    "raw_result_df\n"
   ]
  },
  {
   "cell_type": "markdown",
   "id": "7093f499-faec-4dfd-b23f-a41fdc8d5bfd",
   "metadata": {},
   "source": [
    "⚠ WARNING ⚠ Issue Identified:\n",
    "\n",
    "There is a noticeable discrepancy in the data distribution by year between the two datasets, `detailed_df` and `raw_df`.\n",
    "\n",
    "- In **`detailed_df`**, the year **2021** accounts for **35.09%** of the dataset.\n",
    "- In **`raw_df`**, the year **2021** represents only **14.06%** of the dataset.\n",
    "\n",
    "Also, all our information initially consists of 15 files. The alarm lines for 2021 take up slightly less than 2 files out of 15, that is, about 13-14%\n"
   ]
  },
  {
   "cell_type": "markdown",
   "id": "ca63f046-173c-448c-a3b1-1706d2071eeb",
   "metadata": {},
   "source": [
    "### Checking threat types"
   ]
  },
  {
   "cell_type": "code",
   "execution_count": null,
   "id": "a0ac042f-07a5-420c-9a62-4d863b06622d",
   "metadata": {},
   "outputs": [],
   "source": [
    "print('Number of threat types:', detailed_df['threat_type'].nunique())\n",
    "detailed_df['threat_type'].unique()"
   ]
  },
  {
   "cell_type": "markdown",
   "id": "2538c00f-bb6c-487d-a02a-7a624ab21294",
   "metadata": {},
   "source": [
    "### Checking the 'region' and 'locality' columns"
   ]
  },
  {
   "cell_type": "code",
   "execution_count": null,
   "id": "9c6d4fde-5fa9-41c0-a7c2-b4a569c8f0fa",
   "metadata": {},
   "outputs": [],
   "source": [
    "print('Number of regions:', detailed_df['region'].nunique())\n",
    "detailed_df['region'].unique()"
   ]
  },
  {
   "cell_type": "code",
   "execution_count": null,
   "id": "38c3a436-1612-478d-9102-94deda87d3f3",
   "metadata": {},
   "outputs": [],
   "source": [
    "print('Number of localities:', detailed_df['locality'].nunique())\n",
    "print(detailed_df['locality'].unique())"
   ]
  },
  {
   "cell_type": "code",
   "execution_count": null,
   "id": "84b17536-9d84-402e-a662-ba7b3727dd63",
   "metadata": {},
   "outputs": [],
   "source": [
    "# --- Hidden because of the large size ---\n",
    "# Check how the localities were divided to fix the function, if necessary.\n",
    "#detailed_df['locality'].to_string()"
   ]
  },
  {
   "cell_type": "markdown",
   "id": "f5ed7029-df6d-4f54-b7ff-e6715baa02c4",
   "metadata": {},
   "source": [
    "### Checking localities and regions in Hebrew"
   ]
  },
  {
   "cell_type": "code",
   "execution_count": null,
   "id": "3cb9115d-374d-400e-8e5e-e161dbf78c79",
   "metadata": {},
   "outputs": [],
   "source": [
    "# Checking if there are names of localities in Hebrew.\n",
    "detailed_df[detailed_df['locality'].str.contains(r'[\\u0590-\\u05FF]', na=False)]"
   ]
  },
  {
   "cell_type": "code",
   "execution_count": null,
   "id": "cbbe7594-25ee-4311-98f7-f319b9e524a0",
   "metadata": {},
   "outputs": [],
   "source": [
    "# Display all the localities in Hebrew with the number of times\n",
    "detailed_df[detailed_df['locality'].str.contains(r'[\\u0590-\\u05FF]', \n",
    "                                                 na=False)].value_counts().to_frame()"
   ]
  },
  {
   "cell_type": "code",
   "execution_count": null,
   "id": "56dee1d1-29f3-470f-9ef2-62503b24332c",
   "metadata": {},
   "outputs": [],
   "source": [
    "translation_dict = {\n",
    "    \"צפת\": \"Safed\",\n",
    "    \"נירים\": \"Nirim\",\n",
    "    \"אשדוד\": \"Ashdod\",\n",
    "    \"איבים\": \"Ibim\",\n",
    "    \"שדרות\": \"Sderot\",\n",
    "    \"קריית שמונה\": \"Kiryat Shmona\",\n",
    "    \"ניר עם\": \"Nir Am\",\n",
    "    \"לב החולה\": \"Lev Ha-Hula\",\n",
    "    \"פרדס חנה\": \"Pardes Hanna - Karkur\",\n",
    "    \"כוחלה מכחול\": \"Kokhav Michael\",\n",
    "    \"שוהם\": \"Shoham\",\n",
    "    \"כרכור\": \"Karkur\",\n",
    "    \"כפר נחום\": \"Kfar Naḥum\",\n",
    "    \"מצוק עורבים\": \"Orevim Cliff\",\n",
    "    \"איירפורט סיטי\": \"Airport City\",\n",
    "    \"אזור תעשייה רמת גן\": \"Ramat Gan Industrial Zone\",\n",
    "    \"רמת טראמפ\": \"Ramat Trump\",\n",
    "    \"רכסים נהר הירדן\": \"Jordan River Terraces\",\n",
    "    \"אזור תעשייה תעשייה רמת גן\": \"Ramat Gan Industrial Area\",\n",
    "    \"חוות אירוח גורן\": \"Goren Guest Farm\",\n",
    "    \"תחנה\": \"Station\",\n",
    "    \"מוזיאון כוכבים רעים\": \"Bad Stars Museum\",\n",
    "    \"מלון אחוזת ירדן\": \"Jordan Estate Hotel\",\n",
    "    \"מיני ישראל\": \"Mini Israel\",\n",
    "    \"נאות קדומים\": \"Neot Kedumim\",\n",
    "    \"חניון הנגב מהר\": \"Negev Fast Parking Lot\",\n",
    "    \"מלון מונזון\": \"Monzon Hotel\",\n",
    "    \"יהוד מונוסון\": \"Yehud Monoson\",\n",
    "    \"גני יהודה\": \"Ganei Yehuda\",\n",
    "    \"רמת טראמפ\": \"Ramat Trump\",\n",
    "    \"צוק עורבים\": \"Ravens' Cliff\",\n",
    "    \"מכון תבנית מהר\": \"Fast Template Institute\",\n",
    "    \"מבטחים עמיעוז ישע\": \"Mivtachim Ami'oz Yesha\",\n",
    "    \"רפטינג נהר הירדן\": \"Jordan River Rafting\",\n",
    "    \"אזור תעשייה רגמ\": \"Regem Industrial Zone\",\n",
    "    \"חניון הנתיב מהיר\": \"Fast Lane Parking Lot\",\n",
    "    \"מודיעין מכבים רעות\": \"Modiin Maccabim Reut\",\n",
    "    \"נילי\": \"Nili\",\n",
    "    \"טבחה\": \"Tabgha\",\n",
    "    \"איזור תעשייה מילואות צפון\": \"Miluot North Industrial Zone\"\n",
    "}\n",
    "\n",
    "\n",
    "\n",
    "# Function to replace entire string if it contains a Hebrew name\n",
    "def replace_entire_entry(text, translation_dict):\n",
    "    if pd.isna(text):  # Handle NaN values safely\n",
    "        return text\n",
    "    for hebrew, english in translation_dict.items():\n",
    "        if hebrew in text:  # If any Hebrew name appears in the text\n",
    "            return english  # Replace the entire text with the English name\n",
    "    return text  # Otherwise, keep the original value\n",
    "\n",
    "# Apply the function to 'locality' and 'region' columns\n",
    "detailed_df['locality'] = (\n",
    "    detailed_df['locality']\n",
    "    .astype(str)\n",
    "    .str.strip()\n",
    "    .apply(lambda x: replace_entire_entry(x, translation_dict))\n",
    ")\n",
    "\n",
    "detailed_df['region'] = (\n",
    "    detailed_df['region']\n",
    "    .astype(str)\n",
    "    .str.strip()\n",
    "    .apply(lambda x: replace_entire_entry(x, translation_dict))\n",
    ")\n"
   ]
  },
  {
   "cell_type": "code",
   "execution_count": null,
   "id": "c1625f42-77a0-4c1d-81ec-cdb5796fb3be",
   "metadata": {},
   "outputs": [],
   "source": [
    "# Display all the localities in Hebrew with the number of times\n",
    "detailed_df[detailed_df['locality'].str.contains(r'[\\u0590-\\u05FF]', \n",
    "                                                 na=False)].value_counts().to_frame()"
   ]
  },
  {
   "cell_type": "code",
   "execution_count": null,
   "id": "25bc7309-d9d1-40df-8b60-338e3047c56c",
   "metadata": {},
   "outputs": [],
   "source": [
    "# List of Hebrew words to be removed from the 'locality' column\n",
    "words_to_remove = [\"טו\", \"יב\", \"יז\", \"מרינה\", \"יא\", \"סיט\"]\n",
    "\n",
    "# Filter the DataFrame to exclude rows where 'locality' contains any of the specified words\n",
    "detailed_df = detailed_df[~detailed_df['locality'].isin(words_to_remove)]\n",
    "\n",
    "# Display all the localities in Hebrew with the number of times\n",
    "detailed_df[detailed_df['locality'].str.contains(r'[\\u0590-\\u05FF]', \n",
    "                                                 na=False)].value_counts().to_frame()"
   ]
  },
  {
   "cell_type": "markdown",
   "id": "a2f07c12-2267-4df0-8d2e-7cfe07fbd38b",
   "metadata": {},
   "source": [
    "I have translated all the Hebrew names into their English versions. "
   ]
  },
  {
   "cell_type": "code",
   "execution_count": null,
   "id": "36977621-cbc1-4bec-95e8-9bc649df4f9c",
   "metadata": {},
   "outputs": [],
   "source": [
    "# Check again\n",
    "detailed_df['region'].unique()"
   ]
  },
  {
   "cell_type": "markdown",
   "id": "aa389547-092b-454e-8269-190c8e292616",
   "metadata": {},
   "source": [
    "### Checking the number of types of city names\n",
    "\n",
    "We have relatively large cities that are divided into zones. Let's check how many such zones there are"
   ]
  },
  {
   "cell_type": "code",
   "execution_count": null,
   "id": "0fd44dc4-4d80-41b3-868c-f515e1481ddd",
   "metadata": {},
   "outputs": [],
   "source": [
    "# List of major cities\n",
    "major_cities = [\n",
    "    \"Eilat\", \"Modi'in\", \"Hadera\", \"Caesarea\", \"Ramat Gan\", \"Haifa\", \n",
    "    \"Beer Sheva\", \"Netanya\", \"Rishon LeZion\", \"Tel Aviv\", \"Ashdod\", \"Herzeliya\", \"Jerusalem\", \n",
    "    \"Beit Shemesh\", \"Ashkelon\", \"Rehovot\", \"Lod\", \"Ramla\", \"Holon\", \"Bat Yam\", \"Kfar Saba\", \n",
    "    \"Petach Tikva\", \"Tiberias\", \"Nahariya\", \"Safed\", \"Kiryat Shmona\", \"Acre\",\n",
    "    \"Ma'ale Adumim\", \"Ariel\", \"Nazareth\", \"Atlit\", \"Sderot\", \"Ofakim\", \n",
    "    \"Dimona\", \"Yavne\", \"Kiryat Gat\", \"Kiryat Malakhi\", \"Migdal HaEmek\", \"Or Akiva\",\n",
    "    \"Be'er Ya'akov\", \"Givatayim\", \"Yokneam Illit\", \"Tirat Carmel\", \"Karmiel\", \"Arad\",\n",
    "    \"Ma'alot-Tarshiha\", \"Kiryat Ata\", \"Kiryat Bialik\", \"Kiryat Yam\", \"Kiryat Motzkin\",\n",
    "    \"Nesher\", \"Afula\", \"Bnei Brak\", \"Kiryat Ono\", \"Or Yehuda\", \"Ramat HaSharon\", \n",
    "    \"El'ad\", \"Ganei Tikva\", \"Giv'at Shmuel\", \"Hod Hasharon\", \"Kafr Qasim\", \"Kfar Yona\", \n",
    "    \"Ness Ziona\", \"Qalansawe\", \"Ra'anana\", \"Rosh HaAyin\", \"Tayibe\", \"Tira\", \n",
    "    \"Yehud-Monosson\", \"Pardes Hanna-Karkur\"\n",
    "]\n",
    "\n",
    "def get_localities_by_city(df, major_cities, column='locality'):\n",
    "    \"\"\"\n",
    "    Function to retrieve unique localities for each major city.\n",
    "    \n",
    "    :param df: DataFrame containing the data.\n",
    "    :param major_cities: List of major cities to check.\n",
    "    :param column: Name of the column to search for localities (default is 'locality').\n",
    "    :return: Dictionary where the key is the city and the value is a list of unique localities.\n",
    "    \"\"\"\n",
    "    city_localities = {}\n",
    "    for city in major_cities:\n",
    "        # Filter the DataFrame and extract unique localities for the current city\n",
    "        localities = df[df[column].str.contains(city, case=False, na=False)][column].unique()\n",
    "        city_localities[city] = localities.tolist()  # Convert to a list for easier handling\n",
    "        print(f\"City: {city}, Localities: {city_localities[city]}\")  # Debug output\n",
    "        print(\"=\" * 40)  # Separator line\n",
    "    return city_localities\n",
    "\n",
    "# Call the function\n",
    "localities_by_city = get_localities_by_city(detailed_df, major_cities)"
   ]
  },
  {
   "cell_type": "markdown",
   "id": "8f03458b-6b09-43eb-835b-8fd65b41132d",
   "metadata": {},
   "source": [
    "Let's create a function that retrieves unique localities for a given city from a DataFrame. This function will filter the data based on the city name, extract distinct localities from the specified column, and return them as a list. Additionally, it will display the results in a structured format for better readability. This can be useful for analyzing geographic data and understanding the distribution of localities within a city."
   ]
  },
  {
   "cell_type": "code",
   "execution_count": null,
   "id": "173230c8-9d78-4cbd-8fe4-3c5654b77808",
   "metadata": {},
   "outputs": [],
   "source": [
    "def get_localities_by_city(df, city, column='locality'):\n",
    "    \"\"\"\n",
    "    Function to retrieve unique localities for a specific city.\n",
    "\n",
    "    :param df: DataFrame containing the data.\n",
    "    :param city: The city to check (as a string).\n",
    "    :param column: Name of the column to search for localities (default is 'locality').\n",
    "    :return: List of unique localities for the specified city.\n",
    "    \"\"\"\n",
    "    # Filter the DataFrame and extract unique localities for the city\n",
    "    localities = df[df[column].str.contains(city, case=False, na=False)][column].unique()\n",
    "    \n",
    "    # Convert to list for easier handling\n",
    "    localities_list = localities.tolist()\n",
    "    \n",
    "    # Print result for the city\n",
    "    print(f\"City: {city}\")\n",
    "    print(\"=\" * 40)  # Separator line\n",
    "    print(\"Localities:\")\n",
    "    if localities_list:\n",
    "        print(\", \".join(localities_list))\n",
    "    else:\n",
    "        print(\"No localities found\")\n",
    "    print(\"=\" * 40)  # Separator line\n",
    "\n",
    "    return localities_list\n"
   ]
  },
  {
   "cell_type": "markdown",
   "id": "f34435a4-fe49-4566-927e-e8cc1f86db70",
   "metadata": {},
   "source": [
    "⚠ The following check of the city zones was done using the ChatGPT to speed up and may contain errors. ⚠"
   ]
  },
  {
   "cell_type": "code",
   "execution_count": null,
   "id": "2a838102-4e50-4cb9-98d1-13be7fc5e578",
   "metadata": {},
   "outputs": [],
   "source": [
    "get_localities_by_city(detailed_df, \"Tel Aviv\")"
   ]
  },
  {
   "cell_type": "markdown",
   "id": "c760c5ee-f46b-437f-aca6-5d19742105c6",
   "metadata": {},
   "source": [
    "The following entries are most likely part of Tel Aviv city in its classic sense: 'Tel Aviv (South West)',  'Tel Aviv (North)' \n",
    " 'Tel Aviv (Central) \r\n",
    " 'Tel Aviv (South East ',\r\n",
    " 'Tel Aviv - City Ce.\n",
    "te**Jaffa (Yafo)** is a distinct historic area often treated separately due to its unique cultural and historical significance. But let's classify this area as Tel Aviv, since it is officially part of the Tel Aviv-Yafo municipality.\n",
    "r']\r\n",
    "\n"
   ]
  },
  {
   "cell_type": "code",
   "execution_count": null,
   "id": "08039069-472f-43c9-b226-0e94be46bd6b",
   "metadata": {},
   "outputs": [],
   "source": [
    "get_localities_by_city(detailed_df, \"Jerusalem\")"
   ]
  },
  {
   "cell_type": "markdown",
   "id": "44c2cd7c-7f51-4d09-803d-18be985fd744",
   "metadata": {},
   "source": [
    "Almost all entries from the list are officially part of Jerusalem, except 'Jerusalem - North and Alonim', which is potentially ambiguous, because \"Alonim\" may refer to areas adjacent to Jerusalem or informal names not officially within its boundaries. However, it should be included in Jerusalem for consistency, as such entries are often culturally or geographically associated with the city, ensuring unified classification and avoiding fragmentation in the dataset."
   ]
  },
  {
   "cell_type": "code",
   "execution_count": null,
   "id": "5adba8ff-9fa3-42be-8525-15d4f361775b",
   "metadata": {},
   "outputs": [],
   "source": [
    "get_localities_by_city(detailed_df, \"Ashdod\")"
   ]
  },
  {
   "cell_type": "markdown",
   "id": "6b009140-6772-4d39-955b-72ca167dc901",
   "metadata": {},
   "source": [
    "**'Hatzor Ashdod'** is not a part of Ashdod proper. The rest of the zones are officially part of it."
   ]
  },
  {
   "cell_type": "code",
   "execution_count": null,
   "id": "5e5e4189-f8a8-4536-85e3-d851e552d26f",
   "metadata": {},
   "outputs": [],
   "source": [
    "get_localities_by_city(detailed_df, \"Ashkelon\")"
   ]
  },
  {
   "cell_type": "markdown",
   "id": "8a4b4d25-b38b-4ef6-bf34-ae5d2295fcd2",
   "metadata": {},
   "source": [
    "⚠There are differing opinions in various sources regarding whether the industrial zones are officially part of Ashkelon. However, given their close proximity to residential areas, I assume their inclusion within the city for the purpose of analysis.⚠\r\n"
   ]
  },
  {
   "cell_type": "code",
   "execution_count": null,
   "id": "65922d1c-b4e8-4f68-96c8-c2c124449673",
   "metadata": {},
   "outputs": [],
   "source": [
    "get_localities_by_city(detailed_df, \"Modi'in\")"
   ]
  },
  {
   "cell_type": "markdown",
   "id": "319939a6-c498-4baf-9ade-0a3e0d7b65ea",
   "metadata": {},
   "source": [
    "The following zones are officially part of Modi'in-Maccabim-Re'ut (the city): **Modi'in - Ishpro Center**, **Modi'in - Ligad Center**, **Modi'in-Maccabim-Re'ut**, **Modi'in Maccabim Re'ut**.\n",
    "The remaining entries, such as **Hevel Modi'in**, **Modi'in Illit**, and **industrial zones**, refer to nearby regional councils or separate municipalities and are not officially part of the city."
   ]
  },
  {
   "cell_type": "code",
   "execution_count": null,
   "id": "872633d8-a84b-4a2e-a5b9-ec4ed518239b",
   "metadata": {},
   "outputs": [],
   "source": [
    "get_localities_by_city(detailed_df, \"Ramat Gan\")"
   ]
  },
  {
   "cell_type": "markdown",
   "id": "bde5d91f-4d06-4e81-9e74-f93438e258ee",
   "metadata": {},
   "source": [
    "The entry \"Ramat Gan - Ramat Ef'al & Tel Hashomer\" partially refers to areas outside the city (e.g., Tel Hashomer, which belongs to Kiryat Ono).  The rest of the zones are officially part of the city."
   ]
  },
  {
   "cell_type": "code",
   "execution_count": null,
   "id": "565df4d5-b028-4bb6-84d3-9b3b42732249",
   "metadata": {},
   "outputs": [],
   "source": [
    "get_localities_by_city(detailed_df, \"Haifa\")"
   ]
  },
  {
   "cell_type": "markdown",
   "id": "fed728e8-27b6-4e65-961a-bd57668f14a2",
   "metadata": {},
   "source": [
    "The entry **\"Haifa - Kiryat Haim & Kiryat Shmuel\"** refers to neighborhoods that are administratively part of Haifa but are often considered distinct communities within the city. Other zones are officially part of Haifa.\n",
    "\n",
    "There are such inscriptions in the dataset in the areas of Haifa\n",
    "• Menashe - Haifa - Ramot HaCarmel and Neveh Sha'anan, Haifa - Carmel, Hadar and Downtown Lower City.\n",
    "\n",
    "That is, we have 'Hadar and Downtown Lower City'\n",
    "We should divide them into 'Haifa - Hadar' and 'Haifa - Downtown Lower City'\n",
    "\n",
    "⚠ Also, there is a special case with the name Carmel ⚠"
   ]
  },
  {
   "cell_type": "code",
   "execution_count": null,
   "id": "866f75eb-7296-43b9-92c2-625e3be1a808",
   "metadata": {},
   "outputs": [],
   "source": [
    "get_localities_by_city(detailed_df, \"Carmel\")"
   ]
  },
  {
   "cell_type": "markdown",
   "id": "e6d5da6c-ed69-402c-9d34-c50d3af2d43f",
   "metadata": {},
   "source": [
    "df[df['locality'] == 'Ashdod']Issue Explanation:⚠\n",
    "\n",
    "There is a **naming conflict** with the term **\"Carmel\"** in your dataset. **Carmel** can refer to multiple localities, and it’s important to differentiate between them to avoid misclassification.\n",
    "\n",
    "\n",
    "The following **localities are officially neighborhoods or areas within Haifa**:\n",
    "\n",
    "1. **Haifa - Carmel and Lower City**  \n",
    "2. **Haifa - Ramot HaCarmel and Neveh Sha'anan**  \n",
    "3. **Haifa - Carmel**\n",
    "\n",
    "These names represent **recognized neighborhoods** in Haifa, situated on **Mount Carmel**, which is a central geographical feature of the city.\n",
    "\n",
    "\n",
    "\n",
    "These localities are **close to Haifa** and associated with the **Carmel region** but are **not administratively part of the city**:\n",
    "\n",
    "1. **Tirat Carmel** – A separate city located just south of Haifa.\n",
    "2. **Carmel Forest Spa Resort** – A famous resort located in the Carmel mountain range near Haifa.\n",
    "3. **Mevo Carmel Industrial Zone** – An industrial area near the Carmel region but not within Haifa’s official boundaries.\n",
    "4. **Hof HaCarmel** – Refers to the **Carmel Coast Regional Council**, which is a separate administrative region near Haifa.\n",
    "\n",
    "\n",
    "Some localities contain the name \"Carmel\" but are **not related to Haifa**:\n",
    "\n",
    "1. **Yehuda - Carmel**  This is an **independent locality** located in the **Har Hevron (Mount Hebron) Regional Council** in the southern part of Israel, far from Haifa.\n",
    "\n",
    "2. **Yearot HaCarmel, Geva Carmel, Ein Carmel**  These are **villages or settlements** in the broader Carmel region but **not part of Haifa's municipal jurisdiction**.\n"
   ]
  },
  {
   "cell_type": "code",
   "execution_count": null,
   "id": "b999a6df-82d6-4bda-bcd6-277a7b897367",
   "metadata": {},
   "outputs": [],
   "source": [
    "get_localities_by_city(detailed_df, 'Acre')"
   ]
  },
  {
   "cell_type": "markdown",
   "id": "1e7eb689-4d10-4cd2-b9e7-32407e4e6eb8",
   "metadata": {},
   "source": [
    "Acre, but there are also 'Akko', 'Acco'"
   ]
  },
  {
   "cell_type": "code",
   "execution_count": null,
   "id": "a2b30ae6-08e0-4664-bb8e-32a084ac8d2e",
   "metadata": {},
   "outputs": [],
   "source": [
    "# Filter rows where 'locality' contains 'Akko' or 'Acco'\n",
    "akko_variants = detailed_df[detailed_df['locality'].str.contains(r'Akko|Acco', case=False, na=False)]\n",
    "\n",
    "# Display unique values\n",
    "unique_akko_variants = akko_variants['locality'].unique()\n",
    "\n",
    "# Print results\n",
    "print(\"Unique locality values containing 'Akko' or 'Acco':\")\n",
    "for variant in unique_akko_variants:\n",
    "    print(variant)\n"
   ]
  },
  {
   "cell_type": "code",
   "execution_count": null,
   "id": "5cd68bed-5f32-4115-a29a-c8fbb6f8c558",
   "metadata": {},
   "outputs": [],
   "source": [
    "# Replace 'Acco' and 'Akko' with 'Acre' in the 'locality' column\n",
    "detailed_df.loc[:, 'locality'] = detailed_df['locality'].str.replace(r'Acco|Akko', 'Acre', case=False, regex=True)"
   ]
  },
  {
   "cell_type": "code",
   "execution_count": null,
   "id": "e34d7afd-f5dd-438e-9429-e2d28fe15ef2",
   "metadata": {},
   "outputs": [],
   "source": [
    "get_localities_by_city(detailed_df, \"Hadera\")"
   ]
  },
  {
   "cell_type": "markdown",
   "id": "2d559d24-2627-47e6-b288-a37bc816fa26",
   "metadata": {},
   "source": [
    "All the listed zones are officially part of Hadera"
   ]
  },
  {
   "cell_type": "code",
   "execution_count": null,
   "id": "febd0f77-3d1c-425a-82b6-8b92f2533573",
   "metadata": {},
   "outputs": [],
   "source": [
    "get_localities_by_city(detailed_df, \"Caesarea\")"
   ]
  },
  {
   "cell_type": "markdown",
   "id": "735a9392-b350-49a2-9477-a56e05ef5dd8",
   "metadata": {},
   "source": [
    "The following zones are officially part of Caesarea: Caesarea, Caesarea Marine Center\n",
    "The Caesarea Industrial Zone is a nearby industrial area but is not part of the residential or municipal core of Caesarea. But we will designate it as a part of the city, because we have done the same for the industrial zones of other cities."
   ]
  },
  {
   "cell_type": "code",
   "execution_count": null,
   "id": "f93566fd-1169-407a-90d4-98ed624105ce",
   "metadata": {},
   "outputs": [],
   "source": [
    "get_localities_by_city(detailed_df, \"Herzeliya\")"
   ]
  },
  {
   "cell_type": "markdown",
   "id": "b014141e-412e-4cb9-8b27-db5f08dc16da",
   "metadata": {},
   "source": [
    "All the listed zones are officially part of Herzeliya.\n",
    "\n",
    "There is also 'Herzliya'"
   ]
  },
  {
   "cell_type": "code",
   "execution_count": null,
   "id": "d0286ea8-2eb1-41bd-9648-e6a49c11b8b3",
   "metadata": {},
   "outputs": [],
   "source": [
    "# Replace 'Herzliya' with 'Herzeliya' in the 'locality' column\n",
    "detailed_df.loc[:, 'locality'] = detailed_df['locality'].str.replace(r'Herzliya', 'Herzeliya', case=False, regex=True)\n"
   ]
  },
  {
   "cell_type": "code",
   "execution_count": null,
   "id": "063f930d-11c2-453a-be1f-26f7cca2bbaf",
   "metadata": {},
   "outputs": [],
   "source": [
    "get_localities_by_city(detailed_df, \"Rehovot\")"
   ]
  },
  {
   "cell_type": "markdown",
   "id": "63178875-181b-4d05-9a8e-c0b4da137cdf",
   "metadata": {},
   "source": [
    "All the listed zones are officially part of Rehovot"
   ]
  },
  {
   "cell_type": "code",
   "execution_count": null,
   "id": "be79f6e6-4a02-4828-8187-2983cbea1724",
   "metadata": {},
   "outputs": [],
   "source": [
    "get_localities_by_city(detailed_df, \"Ramla\")"
   ]
  },
  {
   "cell_type": "markdown",
   "id": "bec3294e-3b88-47f1-8e92-27765d9486fc",
   "metadata": {},
   "source": [
    "Both of the mentioned localities are part of the city of Ramla:\n",
    "\n",
    "**Ramla** – This is the city itself, located in the central district of Israel.\n",
    "\n",
    "**Nesher Industrial Zone (Ramla)** – This is an industrial zone located within Ramla. It is named after Nesher, one of Israel’s leading cement manufacturers, and is situated within the city limits."
   ]
  },
  {
   "cell_type": "code",
   "execution_count": null,
   "id": "d85f5379-75f1-409e-918f-935e2a757e52",
   "metadata": {},
   "outputs": [],
   "source": [
    "get_localities_by_city(detailed_df, \"Nahariya\")"
   ]
  },
  {
   "cell_type": "markdown",
   "id": "9c657e3d-851b-432a-9575-5e340d7cbb75",
   "metadata": {},
   "source": [
    "Both Nahariya and Nahariya Cemetery are part of the city:\n",
    "\n",
    "**Nahariya** – This is the city itself, located in the Northern District of Israel.\n",
    "\n",
    "**Nahariya Cemetery** – This is the city's cemetery, situated within the boundaries of Nahariya"
   ]
  },
  {
   "cell_type": "code",
   "execution_count": null,
   "id": "a7abd2fb-4438-4648-a222-5b678387966d",
   "metadata": {},
   "outputs": [],
   "source": [
    "get_localities_by_city(detailed_df, \"Safed\")"
   ]
  },
  {
   "cell_type": "markdown",
   "id": "7d0334f8-f048-4771-9372-6c06e808a2a4",
   "metadata": {},
   "source": [
    "Belongs to the city:\n",
    "- **Safed** – Refers to the city itself, located in the Northern District of Israel.  \n",
    "- **Safed - City** – Specifically refers to the central urban area of Safed.  \n",
    "- **Safed - Nof ha-Kinneret** – A neighborhood or area within the municipal boundaries of Safed.  \n",
    "- **Safed - 'Akbara** – Officially part of the city of Safed since 1977. 'Akbara is administered as a neighborhood within the city's municipal boundaries.  \n",
    "\n",
    "So, **all** the listed localities belong to **Safed**."
   ]
  },
  {
   "cell_type": "code",
   "execution_count": null,
   "id": "818e95e3-bb47-46db-80cb-60e5a8e63612",
   "metadata": {
    "scrolled": true
   },
   "outputs": [],
   "source": [
    "get_localities_by_city(detailed_df, \"Nazareth\")"
   ]
  },
  {
   "cell_type": "markdown",
   "id": "0de1bf25-d64b-439d-8c81-9c778081d741",
   "metadata": {},
   "source": [
    "Belongs to the city:\n",
    "- **Nazareth** – This is the city itself, located in the Northern District of Israel. It is the largest Arab city in the country and has its own independent municipality.\n",
    "\n",
    "Does **not** officially belong to the city:\n",
    "- **Nof HaGalil (Nazareth Illit)** – This is a separate city with its own municipality. Although it was originally established as a Jewish suburb of Nazareth, it became an independent city and officially changed its name from *Nazareth Illit* to *Nof HaGalil* in 2019."
   ]
  },
  {
   "cell_type": "code",
   "execution_count": null,
   "id": "95bcd3c9-9992-43f9-bc54-f4b657b567f3",
   "metadata": {},
   "outputs": [],
   "source": [
    "get_localities_by_city(detailed_df, \"Dimona\")"
   ]
  },
  {
   "cell_type": "markdown",
   "id": "2f138da3-de25-46bd-b3dd-7548024f6c45",
   "metadata": {},
   "source": [
    "**Both Dimona and Dimona Industrial Zone officially belong to the city of Dimona.**\n",
    "\n",
    "- **Dimona**  \n",
    "This is the city itself, located in the Southern District of Israel. It has its own municipality and administrative boundaries.\n",
    "\n",
    "- **Dimona Industrial Zone**  \n",
    "This industrial area is officially part of Dimona’s municipal jurisdiction. It serves as the city’s hub for industrial and economic activities but is distinct from the residential areas."
   ]
  },
  {
   "cell_type": "code",
   "execution_count": null,
   "id": "f780cea4-fd9f-4b4e-b11f-02ee96be9b3a",
   "metadata": {},
   "outputs": [],
   "source": [
    "get_localities_by_city(detailed_df, \"Yavne\")"
   ]
  },
  {
   "cell_type": "markdown",
   "id": "5cdfc968-7d8f-4935-b2f1-fecae597ce40",
   "metadata": {},
   "source": [
    "Only **Yavne** and the **Yavne Industrial Zone** are officially part of the city of Yavne. The other localities are separate entities and do not fall under Yavne's municipal jurisdiction. \n",
    "\n",
    "**Officially Part of Yavne:**\n",
    "\n",
    "- **Yavne**: The city itself, located in central Israel.\n",
    "\n",
    "- **Yavne Industrial Zone**: An industrial area within Yavne's municipal boundaries, serving as a hub for the city's industrial and economic activities.\n",
    "\n",
    "**Not Officially Part of Yavne:**\n",
    "\n",
    "- **Gan Yavne**: A local council situated east of Ashdod, operating as an independent municipality separate from Yavne.\n",
    "\n",
    "- **Yavne Region Industries**: This term likely refers to industrial areas in the broader Yavne region but not necessarily within Yavne's city limits.\n",
    "\n",
    "- **Hevel Yavne**: A regional council encompassing several communities in the area surrounding Yavne, but not part of the city itself.\n",
    "\n",
    "- **Kvutzat Yavne**: A religious kibbutz located near Yavne, falling under the jurisdiction of the Hevel Yavne Regional Council. ([en.wikipedia.org](https://en.wikipedia.org/wiki/Kvutzat_Yavne?utm_source=chatgpt.com))\n",
    "\n",
    "- **Kerem Yavneh (Kerem BeYavne)**: A yeshiva and youth village adjacent to Kvutzat Yavne, also under the Hevel Yavne Regional Council. ([en.wikipedia.org](https://en.wikipedia.org/wiki/Yeshivat_Kerem_B%27Yavneh?utm_source=chatgpt.com))\n",
    "\n",
    "- **Yavne'el**: A moshava in northern Israel, not geographically or administratively connected to the city of Yavne.\n",
    "\n",
    "- **Sheni LeYavne**: This term translates to \"Second to Yavne\" but does not correspond to a recognized locality within or near Yavne.\n"
   ]
  },
  {
   "cell_type": "code",
   "execution_count": null,
   "id": "52adb459-efe4-4eee-ae73-b4e64ad22edf",
   "metadata": {},
   "outputs": [],
   "source": [
    "get_localities_by_city(detailed_df, \"Kiryat Gat\")"
   ]
  },
  {
   "cell_type": "markdown",
   "id": "f0450c66-b4cb-4b11-99d2-08643a0f8399",
   "metadata": {},
   "source": [
    "Both **Kiryat Gat** and **Kiryat Gat - Industrial Zone** officially belong to the city of **Kiryat Gat**.\n",
    "\n",
    "**Kiryat Gat**  \n",
    "This is the city itself, located in the Southern District of Israel. It has its own municipality and serves as a regional center for the surrounding area.\n",
    "\n",
    "**Kiryat Gat - Industrial Zone**  \n",
    "This industrial zone is officially part of Kiryat Gat’s municipal jurisdiction. It includes major industrial facilities and tech companies, contributing significantly to the city’s economy."
   ]
  },
  {
   "cell_type": "code",
   "execution_count": null,
   "id": "36ce5ce5-7324-484f-846d-764ba51aa84b",
   "metadata": {},
   "outputs": [],
   "source": [
    "get_localities_by_city(detailed_df, \"Yokneam Illit\")"
   ]
  },
  {
   "cell_type": "markdown",
   "id": "3c6c50e4-3be1-4e50-8907-b0257987a691",
   "metadata": {},
   "source": [
    " Both **Yokneam Illit** and **Yokneam Illit Industrial Zone** are officially part of the city of **Yokneam Illit**.\r\n",
    "\r\n",
    "**Yokneam Illit**   \n",
    "This is the city itself, located in northern Israel at the base of the Carmel Mountains. It has its own municipality and is known for its thriving high-tech industry.\r\n",
    "\r\n",
    "**Yokneam Illit Industrial Zone**   \n",
    "This industrial area is officially part of Yokneam Illit’s municipal jurisdiction. It serves as a key hub for technological companies and industrial activities, contributing significantly to the city’s economy.\r\n",
    "\r\n"
   ]
  },
  {
   "cell_type": "code",
   "execution_count": null,
   "id": "4fcfec23-43ad-44fc-ae50-10eb5e16f621",
   "metadata": {},
   "outputs": [],
   "source": [
    "get_localities_by_city(detailed_df, \"Arad\")"
   ]
  },
  {
   "cell_type": "markdown",
   "id": "b09eea9a-ea44-4ba8-b1b4-a1774c3da451",
   "metadata": {},
   "source": [
    "Only **Arad** is officially part of the city of **Arad**. The other localities mentioned are separate entities and do not fall under Arad's municipal jurisdiction. \r\n",
    "\r\n",
    "Officially Part of Arad:\r\n",
    "\r\n",
    "- **Arad**: This is the city itself, located in the Southern District of Israel, on the border of the Negev and Judean Deserts. It has its own municipality and administrative boundaries. ([en.wikipedia.org](https://en.wikipedia.org/wiki/Arad%2C_Israel?utm_source=chatgpt.com))\r\n",
    "\r\n",
    "Not Officially Part of Arad:\r\n",
    "\r\n",
    "- **Tel Arad**: An archaeological site situated approximately 10 kilometers west of the modern city of Arad. It features the remains of a fortified Canaanite city and Israelite fortresses. Tel Arad is a national park and is not within the municipal boundaries of Arad. ([en.wikipedia.org](https://en.wikipedia.org/wiki/Tel_Arad?utm_source=chatgpt.com))\r\n",
    "\r\n",
    "- **El Pura**: This locality is not widely recognized in available sources and does not appear to be officially associated with the city of Arad."
   ]
  },
  {
   "cell_type": "code",
   "execution_count": null,
   "id": "f812c5b4-fb0f-4c75-be00-ffa240f1c623",
   "metadata": {},
   "outputs": [],
   "source": [
    "get_localities_by_city(detailed_df, \"Kiryat Bialik\")"
   ]
  },
  {
   "cell_type": "markdown",
   "id": "e3bed0c3-96dd-40ef-8284-e8364e28266b",
   "metadata": {},
   "source": [
    "**The Kiryat Bialik Industrial Zone** is officially part of the city of **Kiryat Bialik**."
   ]
  },
  {
   "cell_type": "code",
   "execution_count": null,
   "id": "99564e4b-8459-46ba-8a07-a8d7c0900186",
   "metadata": {},
   "outputs": [],
   "source": [
    "get_localities_by_city(detailed_df, \"Kiryat Bialik\")"
   ]
  },
  {
   "cell_type": "markdown",
   "id": "ae3a7559-9774-42a8-ae95-66c964ee80f1",
   "metadata": {},
   "source": [
    "But there is also 'Kiryat Biyalik' in the dataset."
   ]
  },
  {
   "cell_type": "code",
   "execution_count": null,
   "id": "a1be5a30-16c1-4e28-9955-b0758bb67091",
   "metadata": {},
   "outputs": [],
   "source": [
    "# Replace 'Herzliya' with 'Herzeliya' in the 'locality' column\n",
    "detailed_df.loc[:, 'locality'] = detailed_df['locality'].str.replace(r'Kiryat Biyalik', 'Kiryat Bialik', case=False, regex=True)"
   ]
  },
  {
   "cell_type": "markdown",
   "id": "5afa5f50-61d0-42fe-96bd-c5209a10fbe0",
   "metadata": {},
   "source": [
    "### Updating the dataset (dividing zones)\n",
    "\n",
    "#### Haifa\n",
    "That is, we have 'Hadar and Downtown Lower City'\n",
    "We should divide them into 'Haifa - Hadar' and 'Haifa - Downtown Lower City'"
   ]
  },
  {
   "cell_type": "code",
   "execution_count": null,
   "id": "8852f680-4e63-42c5-83fc-788cdbf41cec",
   "metadata": {},
   "outputs": [],
   "source": [
    "expanded_rows = []\n",
    "for _, row in detailed_df.iterrows():\n",
    "    if row['locality'] == 'Hadar and Downtown Lower City':\n",
    "        localities = ['Haifa - Hadar', 'Haifa - Downtown Lower City']\n",
    "    elif row['locality'] == 'Haifa - Carmel and Lower City':\n",
    "        localities = ['Haifa - Carmel', 'Haifa - Downtown Lower City']\n",
    "    elif row['locality'] == \"Haifa - Ramot HaCarmel and Neveh Sha'anan\":\n",
    "        localities = ['Haifa - Ramot HaCarmel', \"Haifa - Neveh Sha'anan\"]\n",
    "    else:\n",
    "        localities = [row['locality']]\n",
    "    \n",
    "    for loc in localities:\n",
    "        new_row = row.copy()\n",
    "        new_row['locality'] = loc\n",
    "        expanded_rows.append(new_row)\n",
    "\n",
    "# Overwrite the original DataFrame\n",
    "detailed_df = pd.DataFrame(expanded_rows).reset_index(drop=True)\n",
    "\n",
    "detailed_df[detailed_df['locality'].str.contains('Haifa', case=False, na=False)]"
   ]
  },
  {
   "cell_type": "markdown",
   "id": "8d0136d1-8c55-40d4-a575-53f176770bf7",
   "metadata": {},
   "source": [
    "In rare cases, in a text with localities, the city and zones are separated by commas, the line may be separated without specifying the city. For example, 'Haifa - Carmel, Hadar and Downtown Lower City'. It is worth checking how many rows in the dataset are separated in the case of Haifa."
   ]
  },
  {
   "cell_type": "code",
   "execution_count": null,
   "id": "e5505a3a-066b-4ae9-806a-47f3f3aa1533",
   "metadata": {},
   "outputs": [],
   "source": [
    "keywords = ['Carmel', 'Downtown Lower City', 'Lower City', 'West', \n",
    "            'Hadar', 'Bay', 'Ramot HaCarmel', \"Neveh Sha'anan\"]\n",
    "\n",
    "# Create a dictionary to store the counts\n",
    "counts = {key: detailed_df[detailed_df['locality'] == key].shape[0] for key in keywords}\n",
    "\n",
    "# Print the counts\n",
    "for key, count in counts.items():\n",
    "    print(f\"{key}: {count} rows\")\n",
    "\n"
   ]
  },
  {
   "cell_type": "code",
   "execution_count": null,
   "id": "7889827d-19c1-430a-aceb-c489db181257",
   "metadata": {},
   "outputs": [],
   "source": [
    "# Replace 'Carmel' with 'Haifa - Carmel' in the 'locality' column except 'region' == 'Yehuda'\n",
    "detailed_df['locality'] = detailed_df.apply(\n",
    "    lambda row: (\n",
    "        'Haifa - Carmel' \n",
    "        if row['locality'] == 'Carmel' and row['region'] != 'Yehuda' \n",
    "        else row['locality']\n",
    "    ), \n",
    "    axis=1\n",
    ")\n"
   ]
  },
  {
   "cell_type": "code",
   "execution_count": null,
   "id": "de4cd13f-a9c0-449b-b2f2-42a93eb01bf1",
   "metadata": {
    "scrolled": true
   },
   "outputs": [],
   "source": [
    "# Check\n",
    "get_localities_by_city(detailed_df, \"Haifa\")"
   ]
  },
  {
   "cell_type": "code",
   "execution_count": null,
   "id": "0d27651f-c67e-4242-8d86-2c3c51527be7",
   "metadata": {},
   "outputs": [],
   "source": [
    "# Print the counts\n",
    "for key, count in counts.items():\n",
    "    print(f\"{key}: {count} rows\")"
   ]
  },
  {
   "cell_type": "markdown",
   "id": "79c4113f-d314-4190-8d26-261398af2eaa",
   "metadata": {},
   "source": [
    "Nothing has changed for the name 'Carmel'."
   ]
  },
  {
   "cell_type": "markdown",
   "id": "a6cd03db-41b2-4471-a539-0ed9fa3df63c",
   "metadata": {},
   "source": [
    "#### Ashdod\n",
    "In the city of Ashdod, neighborhoods are often listed after the city's name, separated by commas. In the DataFrame, these neighborhoods are named directly as:\n",
    "\n",
    "Initially, we had these regions:\n",
    "- `Ashdod - Alef, Bet, Dalet, Heh`\n",
    "- `Ashdod - Yod Alef, Yod Bet, Tet Vav, Yod Zain, Ma*`\n",
    "- `Ashdod - Gimmel, Vav, Zain` \n",
    "- `Ashdod - Het, Tet, Yod, Yod Gimmel, Yod Dalet, Te*`\n",
    "- `Ashdod-11,12,15,17,Marine,City`\n",
    "\n",
    "When creating detailed_df, these regions became separate rows in the dataframe, which could have skewed the distribution of the data.\n",
    "\n",
    "We have to do the following:\n",
    "- If we have 'Ashdod - Alef', we change it to 'Ashdod - Alef, Bet, Dalet, Heh'\n",
    "- If 'Ashdod - Yod Alef', we change it to 'Ashdod - Yod Alef, Yod Bet, Tet Vav, Yod Zain, Ma*'\n",
    "- If we have 'Ashdod - Gimmel', we change it to 'Ashdod - Gimmel, Vav, Zain'\n",
    "- If we have 'Ashdod - Het', we change it to 'Ashdod - Het, Tet, Yod, Yod Gimmel, Yod Dalet, Te*'\n",
    "- If we have 'Ashdod-11', we change it to 'Ashdod - 11, 12, 15, 17, Marine, City'\n",
    "\n",
    "We also have strings from ashdod_zones =\n",
    "'Alef', 'Bet', 'Dalet', 'Gimmel', 'Heh', 'Het', 'Tet',\n",
    "'Yod', 'Yod Gimmel', 'Yod Dalet', 'Vav', 'Zain', 'Marine', 'City', '12', '15', '17',\n",
    "\n",
    "If 'locality' contains a string from ashdod_zones, it should be removed."
   ]
  },
  {
   "cell_type": "code",
   "execution_count": null,
   "id": "cd4789d7-8825-4356-b70e-8e9f7866caec",
   "metadata": {},
   "outputs": [],
   "source": [
    "detailed_df[detailed_df['locality'] == 'Heh']"
   ]
  },
  {
   "cell_type": "code",
   "execution_count": null,
   "id": "9d5e5957-0f48-48fb-95ee-1782be237ab7",
   "metadata": {},
   "outputs": [],
   "source": [
    "# Dictionary for replacements\n",
    "replacements = {\n",
    "    'Ashdod - Alef': 'Ashdod - Alef, Bet, Dalet, Heh',\n",
    "    'Ashdod - Yod Alef': 'Ashdod - Yod Alef, Yod Bet, Tet Vav, Yod Zain, Ma*',\n",
    "    'Ashdod - Gimmel': 'Ashdod - Gimmel, Vav, Zain',\n",
    "    'Ashdod - Het': 'Ashdod - Het, Tet, Yod, Yod Gimmel, Yod Dalet, Te*',\n",
    "    'Ashdod-11': 'Ashdod - 11, 12, 15, 17, Marine, City'\n",
    "}\n",
    "\n",
    "# Apply replacements\n",
    "detailed_df['locality'] = detailed_df['locality'].replace(replacements)\n",
    "\n",
    "# List of Ashdod zones to be removed\n",
    "ashdod_zones = [\n",
    "    'Alef', 'Bet', 'Dalet', 'Gimmel', 'Heh', 'Het', 'Tet', 'Ma*', 'Te*',\n",
    "    'Yod', 'Yod Gimmel', 'Yod Dalet', 'Vav', 'Zain', 'Marine', 'City', '12', '15', '17'\n",
    "]\n",
    "\n",
    "# clean locality values\n",
    "detailed_df = detailed_df[~detailed_df['locality'].isin(ashdod_zones)]"
   ]
  },
  {
   "cell_type": "code",
   "execution_count": null,
   "id": "38b0bf2a-9a38-40c0-a891-26d175af8c37",
   "metadata": {},
   "outputs": [],
   "source": [
    "detailed_df[detailed_df['locality'] == 'Heh']"
   ]
  },
  {
   "cell_type": "code",
   "execution_count": null,
   "id": "8db33a95-a199-4370-8800-f28a75447c57",
   "metadata": {},
   "outputs": [],
   "source": [
    "detailed_df[detailed_df['locality'].str.contains('Ashdod', case=False, na=False)]\n"
   ]
  },
  {
   "cell_type": "code",
   "execution_count": null,
   "id": "9fca725a-996f-4bff-953d-b21e7805c85e",
   "metadata": {},
   "outputs": [],
   "source": [
    "# Check\n",
    "get_localities_by_city(detailed_df, \"Ashdod\")"
   ]
  },
  {
   "cell_type": "code",
   "execution_count": null,
   "id": "387de3d5-2bff-4be4-b755-8bb0c1746c04",
   "metadata": {},
   "outputs": [],
   "source": [
    "detailed_df.info()"
   ]
  },
  {
   "cell_type": "code",
   "execution_count": null,
   "id": "33828679-8909-44a4-8b12-3925d7d5a70a",
   "metadata": {},
   "outputs": [],
   "source": [
    "detailed_df"
   ]
  },
  {
   "cell_type": "markdown",
   "id": "5c8a8239-c88f-4308-bd43-c2a8a77de0da",
   "metadata": {},
   "source": [
    "### ⚠ Handling Data Skew and Duplication in 2021\n",
    "\n",
    "Let's try to find the reasons for data skew."
   ]
  },
  {
   "cell_type": "code",
   "execution_count": null,
   "id": "c47a873f-30e9-426b-b86a-f69e60897ee7",
   "metadata": {},
   "outputs": [],
   "source": [
    "# Separating the records for 2021 into a new dataset\n",
    "detailed_df_2021 = detailed_df[detailed_df['year'] == 2021]"
   ]
  },
  {
   "cell_type": "code",
   "execution_count": null,
   "id": "ea2dfe9b-90cd-4162-b828-b70f0e92739d",
   "metadata": {},
   "outputs": [],
   "source": [
    "detailed_df_2021.info()"
   ]
  },
  {
   "cell_type": "code",
   "execution_count": null,
   "id": "4744df1d-db05-45c9-b204-8e3d3f029641",
   "metadata": {},
   "outputs": [],
   "source": [
    "# Looking at the first 60 entries\n",
    "detailed_df_2021.head(60)"
   ]
  },
  {
   "cell_type": "markdown",
   "id": "5e06aeed-13d6-4ebc-a9de-49513561f8cc",
   "metadata": {},
   "source": [
    "Several lines with the same name of a locality can go one after the other. For example, Netiv HaAssara, Kissufim"
   ]
  },
  {
   "cell_type": "code",
   "execution_count": null,
   "id": "7cd5a049-f82f-4e1a-8b7d-d6917b4dc601",
   "metadata": {},
   "outputs": [],
   "source": [
    "detailed_df_2021[detailed_df_2021['locality'] == 'Kissufim'].head(10)"
   ]
  },
  {
   "cell_type": "code",
   "execution_count": null,
   "id": "fbaa7cf6-f7f0-465f-a3af-15964659aabb",
   "metadata": {},
   "outputs": [],
   "source": [
    "# Filtering the data for October 7, 2023 (massive attacks)\n",
    "detailed_df[detailed_df['datetime'].dt.date == pd.to_datetime('2023-10-07').date()].head(50)"
   ]
  },
  {
   "cell_type": "markdown",
   "id": "663057bc-0864-454d-9624-a9d7d92b81d0",
   "metadata": {},
   "source": [
    "In 2023, the duplication issue was fixed, and each alert is now uniquely generated, with no duplicate segments."
   ]
  },
  {
   "cell_type": "code",
   "execution_count": null,
   "id": "59a968a8-201e-4b8a-b0ef-c7eaf58af044",
   "metadata": {},
   "outputs": [],
   "source": [
    "# Checking the unique names of localities\n",
    "detailed_df_2021['locality'].unique()"
   ]
  },
  {
   "cell_type": "markdown",
   "id": "6d153944-44e6-424c-bd54-32be3b8f2883",
   "metadata": {},
   "source": [
    "Localities contain 'locality' == \" in their names. Delete them from the entire dataset"
   ]
  },
  {
   "cell_type": "code",
   "execution_count": null,
   "id": "5a7b4301-67b3-4cb2-a908-feb5892acee3",
   "metadata": {},
   "outputs": [],
   "source": [
    "# Counting the number of such rows in the dataset\n",
    "detailed_df[detailed_df['locality'] == ''].shape[0]"
   ]
  },
  {
   "cell_type": "code",
   "execution_count": null,
   "id": "6bee78ca-aaea-481b-9af7-781fc69587b4",
   "metadata": {},
   "outputs": [],
   "source": [
    "# Cleaning data from rows with 'locality' == \"\n",
    "detailed_df = detailed_df[detailed_df['locality'] != '']"
   ]
  },
  {
   "cell_type": "markdown",
   "id": "db7a2772-1993-4904-8fdd-186643063a21",
   "metadata": {},
   "source": [
    "A post dated May 20, 2021, was found in the message files, containing information that\n",
    "- Fixed a bug that caused duplicate alerts.\n",
    "\n",
    "This means that previously, alarm alerts were duplicated, which led to incorrect distribution in the datas\n",
    "\n",
    "\n",
    "⚠⚠⚠ Before May 20, 2021, the dataset contained duplicate alert blocks—identical lists of localities and timestamps were repeated within individual alerts. A May 20, 2021 update to Cumta’s Android app fixed this bug, but the duplicates skewed the yearly distribution of alerts.⚠⚠⚠"
   ]
  },
  {
   "cell_type": "code",
   "execution_count": null,
   "id": "618a33d1-8f79-4ae0-93a3-3068f68ac7fb",
   "metadata": {},
   "outputs": [],
   "source": [
    "# Filter rows before May 20, 2021\n",
    "df_before_may20 = detailed_df[detailed_df['datetime'] < pd.Timestamp('2021-05-20')].copy()\n",
    "\n",
    "# Create a unique key for each alert (based on 'datetime', 'region', and 'locality' columns)\n",
    "df_before_may20['unique_key'] = (\n",
    "    df_before_may20['datetime'].astype(str).str.strip() + '_' +\n",
    "    df_before_may20['region'].astype(str).str.strip() + '_' +\n",
    "    df_before_may20['locality'].astype(str).str.strip()\n",
    ")\n",
    "\n",
    "# Remove duplicates based on the unique key\n",
    "df_before_may20_clean = df_before_may20.drop_duplicates(subset='unique_key').copy()\n",
    "\n",
    "# Drop the unique key column if it is no longer needed\n",
    "df_before_may20_clean.drop(columns=['unique_key'], inplace=True)\n",
    "\n",
    "# If needed, merge the cleaned data with the remaining dataset (rows from May 20, 2021, and later)\n",
    "detailed_df = pd.concat([\n",
    "    df_before_may20_clean,\n",
    "    detailed_df[detailed_df['datetime'] >= pd.Timestamp('2021-05-20')]\n",
    "])\n"
   ]
  },
  {
   "cell_type": "markdown",
   "id": "e420610e-1821-4b83-af37-07c6fd2f17b3",
   "metadata": {},
   "source": [
    "The number of rows has decreased significantly"
   ]
  },
  {
   "cell_type": "code",
   "execution_count": null,
   "id": "72a3de6a-e1d9-46c9-bc76-fb3a12f38825",
   "metadata": {},
   "outputs": [],
   "source": [
    "detailed_df[detailed_df['year'] == 2021].head(60)"
   ]
  },
  {
   "cell_type": "markdown",
   "id": "aa263932-2dc5-4a85-863d-fa4a5c8137eb",
   "metadata": {},
   "source": [
    "There are no more duplicates"
   ]
  },
  {
   "cell_type": "code",
   "execution_count": null,
   "id": "da505dd8-a049-4cf7-aaf5-dc6ca1670fcb",
   "metadata": {},
   "outputs": [],
   "source": [
    "# Convert the 'datetime' column to datetime format\n",
    "detailed_df['datetime'] = pd.to_datetime(detailed_df['datetime'], \n",
    "                                         errors='coerce', format='%d/%m/%Y %H:%M:%S')\n",
    "\n",
    "# Extract the year from the 'datetime' column\n",
    "detailed_df['year'] = detailed_df['datetime'].dt.year\n",
    "\n",
    "# Count the number of alerts per year\n",
    "warnings_by_year_clean = detailed_df['year'].value_counts().sort_index()\n",
    "\n",
    "# Calculate the percentage distribution per year\n",
    "percentages_clean = (warnings_by_year_clean / warnings_by_year_clean.sum()) * 100\n",
    "\n",
    "# Combine the counts and percentage distribution into a DataFrame\n",
    "result_df_clean = pd.DataFrame({\n",
    "    'Count': warnings_by_year_clean,\n",
    "    'Percentage': percentages_clean.round(2).astype(str) + '%'\n",
    "})\n",
    "\n",
    "# Display the result\n",
    "print('Distribution of data by year in detailed_df_clean:')\n",
    "result_df_clean\n"
   ]
  },
  {
   "cell_type": "markdown",
   "id": "39506457-e8e1-41bf-9e59-6f42465de1fc",
   "metadata": {},
   "source": [
    "🎉🎉🎉The distribution by year has become similar to the original one🎉🎉🎉"
   ]
  },
  {
   "cell_type": "markdown",
   "id": "e28148a3-a070-4441-b872-5b72eb0e5ba2",
   "metadata": {},
   "source": [
    "### Processing of the 'region' column"
   ]
  },
  {
   "cell_type": "code",
   "execution_count": null,
   "id": "559a5f15-cb66-4a10-9fb0-2a42b0dbc1a6",
   "metadata": {},
   "outputs": [],
   "source": [
    "# Check again\n",
    "detailed_df['region'].unique()"
   ]
  },
  {
   "cell_type": "code",
   "execution_count": null,
   "id": "cb51f50b-53cc-4e6d-9250-31e3db31cbbc",
   "metadata": {},
   "outputs": [],
   "source": [
    "# Remove ' Area' from the 'region' column if it exists\n",
    "detailed_df['region'] = detailed_df['region'].str.replace(' Area', '', regex=False).str.strip()\n",
    "detailed_df['region'].unique()"
   ]
  },
  {
   "cell_type": "code",
   "execution_count": null,
   "id": "463fb8cf-12e9-4f33-9c56-ec7f244341da",
   "metadata": {},
   "outputs": [],
   "source": [
    "# Replace the incorrect region name with the corrected version\n",
    "detailed_df['region'] = detailed_df['region'].replace('Milouot Industrial\\xa0Zone\\xa0North', \n",
    "                                                      'Milouot Industrial Zone North')"
   ]
  },
  {
   "cell_type": "markdown",
   "id": "4155f854-5065-48d1-9013-19a52a88f030",
   "metadata": {},
   "source": [
    "### Adding the 'district' column"
   ]
  },
  {
   "cell_type": "code",
   "execution_count": null,
   "id": "6f6e9e23-bd92-4136-bed6-2212e153e43b",
   "metadata": {},
   "outputs": [],
   "source": [
    "# List of major cities with their corresponding districts\n",
    "city_to_district = {\n",
    "    \"Tel Aviv\": \"Tel Aviv District\",\n",
    "    \"Dan Area\": \"Tel Aviv District\",\n",
    "    \"Ramat Gan\": \"Tel Aviv District\",\n",
    "    \"Herzeliya\": \"Tel Aviv District\",\n",
    "    \"Holon\": \"Tel Aviv District\",\n",
    "    \"Bat Yam\": \"Tel Aviv District\",\n",
    "    \"Bnei Brak\": \"Tel Aviv District\",\n",
    "    \"Givatayim\": \"Tel Aviv District\",\n",
    "    \"Kiryat Ono\": \"Tel Aviv District\",\n",
    "    \"Or Yehuda\": \"Tel Aviv District\",\n",
    "    \"Ramat HaSharon\": \"Tel Aviv District\",\n",
    "    \"Rishon LeZion\": \"Central District\",\n",
    "    \"Netanya\": \"Central District\",\n",
    "    \"Rehovot\": \"Central District\",\n",
    "    \"Petah Tikva\": \"Central District\",\n",
    "    \"Lod\": \"Central District\",\n",
    "    \"Ramla\": \"Central District\",\n",
    "    \"Kfar Saba\": \"Central District\",\n",
    "    \"Yavne\": \"Central District\",\n",
    "    \"Modi'in-Maccabim-Re'ut\": \"Central District\",\n",
    "    \"Modi'in\": \"Central District\",\n",
    "    \"Be'er Ya'akov\": \"Central District\",\n",
    "    \"El'ad\": \"Central District\",\n",
    "    \"Ganei Tikva\": \"Central District\",\n",
    "    \"Giv'at Shmuel\": \"Central District\",\n",
    "    \"Hod Hasharon\": \"Central District\",\n",
    "    \"Kafr Qasim\": \"Central District\",\n",
    "    \"Kfar Yona\": \"Central District\",\n",
    "    \"Ness Ziona\": \"Central District\",\n",
    "    \"Qalansawe\": \"Central District\",\n",
    "    \"Ra'anana\": \"Central District\",\n",
    "    \"Rosh HaAyin\": \"Central District\",\n",
    "    \"Tayibe\": \"Central District\",\n",
    "    \"Tira\": \"Central District\",\n",
    "    \"Yehud-Monosson\": \"Central District\",\n",
    "    \"Haifa\": \"Haifa District\",\n",
    "    \"Hadera\": \"Haifa District\",\n",
    "    \"Caesarea\": \"Haifa District\",\n",
    "    \"Nesher\": \"Haifa District\",\n",
    "    \"Or Akiva\": \"Haifa District\",\n",
    "    \"Tirat Carmel\": \"Haifa District\",\n",
    "    \"Kiryat Ata\": \"Haifa District\",\n",
    "    \"Kiryat Bialik\": \"Haifa District\",\n",
    "    \"Kiryat Yam\": \"Haifa District\",\n",
    "    \"Kiryat Motzkin\": \"Haifa District\",\n",
    "    \"Pardes Hanna-Karkur\": \"Haifa District\",\n",
    "    \"Jerusalem\": \"Jerusalem District\",\n",
    "    \"Beit Shemesh\": \"Jerusalem District\",\n",
    "    \"Ma'ale Adumim\": \"Jerusalem District\",\n",
    "    \"Nazareth\": \"Northern District\",\n",
    "    \"Acre\": \"Northern District\",\n",
    "    \"Gan Yavne\": \"Central District\",\n",
    "    \"Dead Sea Factories\": \"Southern District\",\n",
    "    \"Dead Sea Industries\": \"Southern District\",\n",
    "    \"Lakhish\": \"Southern District\",\n",
    "    \"Atlit\": \"Haifa District\",\n",
    "    \"Kiryat Malachi\": \"Southern District\",\n",
    "    \"Gdera\": \"Central District\",\n",
    "    \"Bnei Darom\": \"Southern District\",\n",
    "    \"Sdeh Yoav\": \"Southern District\",\n",
    "    \"Palmachim\": \"Central District\",\n",
    "    \"Tiberias\": \"Northern District\",\n",
    "    \"Nahariya\": \"Northern District\",\n",
    "    \"Safed\": \"Northern District\",\n",
    "    \"Kiryat Shmona\": \"Northern District\",\n",
    "    \"Afula\": \"Northern District\",\n",
    "    \"Karmiel\": \"Northern District\",\n",
    "    \"Ma'alot-Tarshiha\": \"Northern District\",\n",
    "    \"Migdal HaEmek\": \"Northern District\",\n",
    "    \"Yokneam Illit\": \"Northern District\",\n",
    "    \"Ashdod\": \"Southern District\",\n",
    "    \"Ashkelon\": \"Southern District\",\n",
    "    \"Beer Sheva\": \"Southern District\",\n",
    "    \"Eilat\": \"Southern District\",\n",
    "    \"Sderot\": \"Southern District\",\n",
    "    \"Ofakim\": \"Southern District\",\n",
    "    \"Dimona\": \"Southern District\",\n",
    "    \"Arad\": \"Southern District\",\n",
    "    \"Kiryat Gat\": \"Southern District\",\n",
    "    \"Kiryat Malakhi\": \"Southern District\"\n",
    "}\n",
    "\n",
    "# Simplified mapping based on keywords in the 'region' column\n",
    "district_mapping_patterns = {\n",
    "    'Dan': 'Tel Aviv District',\n",
    "    'Sharon': 'Central District',\n",
    "    'Hefer': 'Central District',\n",
    "    'Yarkon': 'Central District',\n",
    "    'Drom HaSharon': 'Central District',\n",
    "    'Haifa': 'Haifa District',\n",
    "    'Pardes Hanna': 'Haifa District',\n",
    "    'Karkur': 'Haifa District',\n",
    "    'Hof HaCarmel': 'Haifa District',\n",
    "    'Menashe': 'Haifa District',\n",
    "    'Hakrayot': 'Haifa District',\n",
    "    'Wadi Ara': 'Haifa District',\n",
    "    'Jerusalem': 'Jerusalem District',\n",
    "    'Maale Adumim': 'Jerusalem District',\n",
    "    'Beit Shemesh': 'Jerusalem District',\n",
    "    'Samaria': 'Judea and Samaria Area',\n",
    "    'Shomron': 'Judea and Samaria Area',\n",
    "    'Judea': 'Judea and Samaria Area',\n",
    "    'Yehuda': 'Judea and Samaria Area',\n",
    "    'Shfelat Yehuda': 'Judea and Samaria Area',\n",
    "    'Lakhish': 'Southern District',\n",
    "    'Gaza': 'Southern District',\n",
    "    'Confrontation': 'Southern District',\n",
    "    'Nirim': 'Southern District',\n",
    "    'Nir Am': 'Southern District',\n",
    "    'Eilat': 'Southern District',\n",
    "    'Arava': 'Southern District',\n",
    "    'Dead Sea': 'Southern District',\n",
    "    'Negev': 'Southern District',\n",
    "    'Western Negev': 'Southern District',\n",
    "    'Safed': 'Northern District',\n",
    "    'Galilee': 'Northern District',\n",
    "    'Golan': 'Northern District',\n",
    "    'Tavor': 'Northern District',\n",
    "    'HaAmakim': 'Northern District',\n",
    "    \"Beit She'an\": 'Northern District',\n",
    "    'Lev Ha-Hula': 'Northern District',\n",
    "    'Shfela': 'Central District',\n",
    "    'Southern Shfela': 'Central District',\n",
    "    'HaMifratz': 'Haifa District',\n",
    "    'Ibim': 'Southern District',\n",
    "    'Gaza Envelope': 'Southern District',\n",
    "    'West Lachish': 'Southern District',\n",
    "    'Center Galilee': 'Northern District',\n",
    "    'Center Negev': 'Southern District',\n",
    "    'South Golan': 'Northern District',\n",
    "    'Lower Galilee': 'Northern District',\n",
    "    'Upper Galilee': 'Northern District',\n",
    "    'North Golan': 'Northern District', \n",
    "    \"Beit She'an Valley\": 'Northern District',\n",
    "    'Fast Lane Parking Lot': 'Central District',\n",
    "    'Mini Israel': 'Central District',\n",
    "    'Modiin Maccabim Reut': 'Central District',\n",
    "    'Neot Kedumim': 'Central District',\n",
    "    'Regem Industrial Zone': 'Southern District',\n",
    "    'Yehud Monoson': 'Central District',\n",
    "    'Orevim Cliff': 'Northern District',\n",
    "    'Ramat Trump': 'Northern District',\n",
    "    'Jordan River Rafting': 'Northern District',\n",
    "    'Kfar Naḥum': 'Northern District',\n",
    "    'Tabgha': 'Northern District',\n",
    "    \"Arabah 310\": \"Southern District\",\n",
    "    \"Ye'arut HaCarmel (Carmel Forest)\": \"Haifa District\",\n",
    "    \"Mivtachim Ami'oz Yesha\": \"Central District\",\n",
    "    \"Kokhav Michael\": \"Central District\",\n",
    "    \"Lachish\": \"Southern District\",\n",
    "    \"Bika'a\": \"Central District\",\n",
    "    \"HaCarmel\": \"Haifa District\",\n",
    "    \"Kfar Yehoshua Train Station\": \"Central District\",\n",
    "    \"Shoham\": \"Central District\",\n",
    "    \"Nili\": \"Central District\",\n",
    "    \"Airport City\": \"Central District\",\n",
    "    'Goren Guest Farm': 'Northern District',\n",
    "    'Miluot North Industrial Zone': 'Northern District',\n",
    "    'Jordan Estate Hotel': 'Northern District',\n",
    "    'Milouot Industrial Zone North': 'Northern District'\n",
    "}\n"
   ]
  },
  {
   "cell_type": "code",
   "execution_count": null,
   "id": "6ea817fd-f97d-43bb-9da1-fd5fde48d683",
   "metadata": {},
   "outputs": [],
   "source": [
    "# Function to match keywords in the 'region' column and assign districts\n",
    "def map_to_district(region):\n",
    "    for keyword, district in district_mapping_patterns.items():\n",
    "        if keyword.lower() in region.lower():\n",
    "            return district\n",
    "    return 'Undefined'  # Default if no match is found\n",
    "\n",
    "# Apply logic to create the 'district' column\n",
    "detailed_df['district'] = detailed_df.apply(\n",
    "    lambda row: \"Southern District\" if \"ashdod\" in row['locality'].lower()  # Ensure all 'Ashdod' locations are categorized correctly\n",
    "                else city_to_district[row['locality']] if row['locality'] in city_to_district  # Match exact locality if found in city_to_district\n",
    "                else map_to_district(row['region']),  # Otherwise, try mapping based on region keywords\n",
    "    axis=1\n",
    ")\n",
    "\n",
    "# Drop the 'year' column as it's not needed\n",
    "detailed_df = detailed_df.drop(columns=['year'])\n",
    "\n",
    "# Reset the index for better data structure\n",
    "detailed_df = detailed_df.reset_index(drop=True)\n",
    "\n",
    "# Display the updated DataFrame\n",
    "detailed_df\n"
   ]
  },
  {
   "cell_type": "code",
   "execution_count": null,
   "id": "52bb9eb0-6431-4e0c-a6d1-322e4fbc692b",
   "metadata": {},
   "outputs": [],
   "source": [
    "# Check 'Undefined' district\n",
    "detailed_df[detailed_df['district'] == 'Undefined']['locality'].unique()"
   ]
  },
  {
   "cell_type": "code",
   "execution_count": null,
   "id": "31bb5bff-8b71-42f2-a260-ecdf040725bf",
   "metadata": {},
   "outputs": [],
   "source": [
    "detailed_df[detailed_df['district'] == 'Undefined']['region'].unique()"
   ]
  },
  {
   "cell_type": "code",
   "execution_count": null,
   "id": "99180c68-1bee-4986-a6db-b1a2ac099715",
   "metadata": {},
   "outputs": [],
   "source": [
    "detailed_df.info()"
   ]
  },
  {
   "cell_type": "markdown",
   "id": "415aebe8-26ec-44ed-a3b1-1a899cf3fc16",
   "metadata": {},
   "source": [
    "### Saving the dataframe"
   ]
  },
  {
   "cell_type": "code",
   "execution_count": null,
   "id": "358a1a9f-8536-44bf-8ecf-2baafdf02c34",
   "metadata": {},
   "outputs": [],
   "source": [
    "# Save the cleaned dataset to a CSV file\n",
    "detailed_df.to_csv('cumta_detailed_df.csv', index=False, encoding='utf-8')"
   ]
  },
  {
   "cell_type": "markdown",
   "id": "787b21c6-5d19-4d0c-8b8c-7cd57bcc0c5a",
   "metadata": {},
   "source": [
    "**Summary of Detailed Dataset Processing and Cleaning**\n",
    "\n",
    "1️⃣ **Dataset Creation**\n",
    "- Constructed a dataset with **detailed locality information** based on `raw_df`.\n",
    "\n",
    "2️⃣ **Yearly Data Distribution Analysis**\n",
    "- Identified a significant discrepancy in the **distribution of alerts by year** between `detailed_df` and `raw_df`:\n",
    "  - **In `detailed_df`**: 2021 accounts for **35.09%** of all records.\n",
    "  - **In `raw_df`**: 2021 makes up only **14.06%** of all records.\n",
    "- Given that the original dataset consists of **15 files**, and **2021 alert data spans less than 2 files (~13-14%)**, the distribution in `detailed_df` appeared skewed.\n",
    "\n",
    "3️⃣ **Localization Processing**\n",
    "- Checked **localities and regions in Hebrew** and translated them into **English**.\n",
    "\n",
    "4️⃣ **City Name Standardization**\n",
    "- Identified **large cities** that were divided into **zones**.\n",
    "- Verified how many such **zones exist** and ensured proper classification.\n",
    "- Paid special attention to **Ashdod**, where zone names had **non-standard formats**.\n",
    "\n",
    "5️⃣ **Handling Data Skew and Duplication in 2021**\n",
    "- Found that **several consecutive lines** contained **the same locality names** (e.g., *Netiv HaAssara, Kissufim*).\n",
    "- Discovered a **message dated May 20, 2021**, stating:\n",
    "\n",
    "  > “Fixed a bug that caused duplicate alerts.”\n",
    "\n",
    "- This confirmed that **prior to May 20, 2021**, **duplicate alert blocks** existed, where **identical localities and timestamps** were repeated **within the same alert**.\n",
    "- This duplication issue **skewed the yearly distribution**.\n",
    "\n",
    "6️⃣ **Deduplication & Final Data Cleaning**\n",
    "- **Removed duplicate alert records** from **before May 20, 2021**.\n",
    "- Successfully restored the **yearly distribution** to reflect **the original dataset structure**.\n",
    "\n",
    "---\n",
    "\n",
    "✅ **Final Result:** The dataset is now **cleaned, properly localized, and free from duplicate alerts** that previously distorted historical distributions."
   ]
  },
  {
   "cell_type": "markdown",
   "id": "0366bf4e-da60-4b28-befc-f54048234948",
   "metadata": {},
   "source": [
    "\n",
    "- **Total rows:** 61281\n",
    "- **Duplicates:** None  \n",
    "- **Time column (`'time'`):** Converted to `datetime64[ns]` format  \n",
    "- **Missing value** None  \n",
    "\n",
    "**Columns:**\n",
    "\n",
    "| Column Name | Description |\n",
    "|-------------|------------|\n",
    "| **datetime** | Date and time of the warning in `datetime64[ns]` format |\n",
    "| **locality** | Name of the locality (city, town, or settlement) |\n",
    "| **region** | Region to which the locality belongs |\n",
    "| **threat_type** | Type of warning. Possible values: `'Red Alert'`, `'Unrecognized Aircraft'`, `'Terrorist Infiltration'`, `'Interception Pieces'`, `'Earthquake'` |\n",
    "| **district** | Administrative district or region where the locality is located; an official governmental division. |"
   ]
  },
  {
   "cell_type": "markdown",
   "id": "d17526f0-7664-4694-8a64-4799b7cab623",
   "metadata": {},
   "source": [
    "## Creating a dataset with an indication of detailed localities (zones of large cities are combined into one record)"
   ]
  },
  {
   "cell_type": "code",
   "execution_count": null,
   "id": "8d98bb1f-ed90-49f2-a6f5-6393b79114dc",
   "metadata": {},
   "outputs": [],
   "source": [
    "# List of major cities\n",
    "major_cities_list = [\n",
    "    \"Modi'in\", \"Hadera\", \"Caesarea\", \"Ramat Gan\", \"Haifa\", \"Beer Sheva\", \"Netanya\",\n",
    "    \"Rishon LeZion\", \"Tel Aviv\", \"Ashdod\", \"Herzeliya\", \"Jerusalem\", \"Nahariya\", \n",
    "    \"Safed\", \"Dimona\", \"Kiryat Gat\", \"Yokneam Illit\", \"Acre\", \"Ashkelon\", \"Kiryat Bialik\"\n",
    "]\n",
    "\n",
    "# Map for special cases\n",
    "special_cases = {\n",
    "    'Hatzor Ashdod': 'Hatzor Ashdod',\n",
    "    'Hevel Modi\\'in': 'Hevel Modi\\'in',\n",
    "    'Modi\\'in Illit': 'Modi\\'in Illit',\n",
    "    'Haifa - Kiryat Haim & Kiryat Shmuel': 'Haifa - Kiryat Haim & Kiryat Shmuel'\n",
    "}\n",
    "\n",
    "# Function to determine locality and district label\n",
    "def map_to_locality_and_district(row):\n",
    "    locality = row['locality']\n",
    "    # Check if the locality is in special cases\n",
    "    if locality in special_cases:\n",
    "        return special_cases[locality], \"all\"\n",
    "    # Check if the locality contains a major city name\n",
    "    for city in major_cities_list:\n",
    "        if city in locality:\n",
    "            # Remove city name and clean up\n",
    "            district = locality.replace(city, \"\").strip(\" -\")\n",
    "            # Remove parentheses using regex\n",
    "            district = re.sub(r'[()]', '', district).strip()\n",
    "            return city, district  # Return city and cleaned district name\n",
    "    # If not in major cities, mark it as its own locality with \"all\" zones\n",
    "    return locality, \"All\"\n",
    "\n",
    "# Step 1: Apply the mapping logic to determine locality and district\n",
    "detailed_df[['locality', 'district']] = detailed_df.apply(\n",
    "    lambda row: pd.Series(map_to_locality_and_district(row)), axis=1\n",
    ")\n",
    "\n",
    "# Step 2: Group by 'time' and 'locality', and aggregate zones\n",
    "df = (\n",
    "    detailed_df.groupby(['datetime', 'locality'])\n",
    "    .agg({\n",
    "        'district': lambda x: ', '.join(\n",
    "            filter(None, [item.strip() for item in x.unique()])\n",
    "        ).strip(','),  # Combine unique zones, clean up commas and spaces\n",
    "        'region': 'first',  # Take the first region as an example\n",
    "        'threat_type': 'first',  # Take the first threat_type\n",
    "    })\n",
    "    .reset_index()\n",
    ")\n",
    "\n",
    "# Rename 'district' column for clarity\n",
    "df.rename(columns={'district': 'zones'}, inplace=True)\n",
    "\n",
    "# Step 3: Replace empty 'zones' with 'All'\n",
    "df['zones'] = df['zones'].apply(lambda x: 'All' if not x.strip() else x)\n",
    "\n",
    "# Step 4: Remove numbers from the 'region' column if locality is in major_cities_list\n",
    "def clean_region(region, locality):\n",
    "    if locality in major_cities_list:\n",
    "        return re.sub(r'\\d+', '', region).strip()\n",
    "    return region\n",
    "\n",
    "df['region'] = df.apply(lambda row: clean_region(row['region'], row['locality']), axis=1)\n"
   ]
  },
  {
   "cell_type": "code",
   "execution_count": null,
   "id": "b0e778ca-fc44-4e63-b4d5-d40562945e90",
   "metadata": {},
   "outputs": [],
   "source": [
    "df"
   ]
  },
  {
   "cell_type": "markdown",
   "id": "39fff570-680b-4a73-b1ba-543f222629a7",
   "metadata": {},
   "source": [
    "### Checking the main cities in the final dataset"
   ]
  },
  {
   "cell_type": "code",
   "execution_count": null,
   "id": "10889a66-4a7a-4c84-a348-3a72442ddbf5",
   "metadata": {},
   "outputs": [],
   "source": [
    "df[df['locality'] == 'Tel Aviv']"
   ]
  },
  {
   "cell_type": "code",
   "execution_count": null,
   "id": "afe28552-cd18-45c4-8e7a-7ff81f7cb33d",
   "metadata": {},
   "outputs": [],
   "source": [
    "df[df['locality'] == 'Haifa']"
   ]
  },
  {
   "cell_type": "code",
   "execution_count": null,
   "id": "3640d6b5-04d4-4b78-aec7-0b947425d13f",
   "metadata": {},
   "outputs": [],
   "source": [
    "df[df['locality'] == \"Modi'in\"]"
   ]
  },
  {
   "cell_type": "code",
   "execution_count": null,
   "id": "ecba9326-00e2-4355-97a3-1028f86b49b0",
   "metadata": {},
   "outputs": [],
   "source": [
    "df[df['locality'] == 'Hadera']"
   ]
  },
  {
   "cell_type": "code",
   "execution_count": null,
   "id": "ea911630-19a2-4a37-be9f-6437af8a02d5",
   "metadata": {},
   "outputs": [],
   "source": [
    "df[df['locality'] == 'Caesarea']"
   ]
  },
  {
   "cell_type": "code",
   "execution_count": null,
   "id": "0023e669-dc42-46b4-8917-994fa1b2dbcd",
   "metadata": {},
   "outputs": [],
   "source": [
    "df[df['locality'] == 'Ramat Gan']"
   ]
  },
  {
   "cell_type": "code",
   "execution_count": null,
   "id": "b3d10913-47dd-4e4f-b557-37988d866198",
   "metadata": {},
   "outputs": [],
   "source": [
    "df[df['locality'] == 'Beer Sheva']"
   ]
  },
  {
   "cell_type": "code",
   "execution_count": null,
   "id": "c3b9475e-e290-46c5-a584-f7297c4a8b23",
   "metadata": {},
   "outputs": [],
   "source": [
    "df[df['locality'] == 'Rishon LeZion']"
   ]
  },
  {
   "cell_type": "code",
   "execution_count": null,
   "id": "e0212e47-9e01-40c2-bf5d-89da5060c0f9",
   "metadata": {},
   "outputs": [],
   "source": [
    "df[df['locality'] == 'Ashdod']"
   ]
  },
  {
   "cell_type": "code",
   "execution_count": null,
   "id": "fd819d4c-27c4-4c0d-852a-520f21c063e2",
   "metadata": {},
   "outputs": [],
   "source": [
    "df[df['locality'] == 'Ashkelon']"
   ]
  },
  {
   "cell_type": "code",
   "execution_count": null,
   "id": "40201f78-5936-4e6d-bbb9-bd64e54f601b",
   "metadata": {},
   "outputs": [],
   "source": [
    "df[df['locality'] == 'Herzeliya']"
   ]
  },
  {
   "cell_type": "markdown",
   "id": "b72ff4b5-8160-4c8c-b5a5-f5757faa7251",
   "metadata": {},
   "source": [
    "Сhecking if the dataset contains the words 'Herzliya' instead of 'Herzeliya'"
   ]
  },
  {
   "cell_type": "code",
   "execution_count": null,
   "id": "e763b344-c445-4fe5-a876-6de0f5bd3f81",
   "metadata": {},
   "outputs": [],
   "source": [
    "df[df['locality'] == 'Herzliya']"
   ]
  },
  {
   "cell_type": "code",
   "execution_count": null,
   "id": "29395ccd-8591-41f3-b3b5-7c66dd6dbd27",
   "metadata": {},
   "outputs": [],
   "source": [
    "# Replace\n",
    "df.replace('Herzliya', 'Herzeliya', inplace=True)"
   ]
  },
  {
   "cell_type": "code",
   "execution_count": null,
   "id": "db0a87c0-8ece-479e-8941-b388b9c5f2c6",
   "metadata": {},
   "outputs": [],
   "source": [
    "# Check\n",
    "df[df['locality'] == 'Herzliya']"
   ]
  },
  {
   "cell_type": "markdown",
   "id": "d9899b91-b332-4925-9aed-c0391f6e9bf3",
   "metadata": {},
   "source": [
    "Everything is OK now"
   ]
  },
  {
   "cell_type": "code",
   "execution_count": null,
   "id": "a10b712a-cd49-459b-8042-2272096b697f",
   "metadata": {},
   "outputs": [],
   "source": [
    "df[df['locality'] == \"Ra'anana\"]"
   ]
  },
  {
   "cell_type": "code",
   "execution_count": null,
   "id": "459c531b-0b03-4b8c-82ef-d978356231c9",
   "metadata": {},
   "outputs": [],
   "source": [
    "df[df['locality'] == 'Jerusalem']"
   ]
  },
  {
   "cell_type": "code",
   "execution_count": null,
   "id": "8089fb9d-80b1-4db0-8b53-c9d55ac86cac",
   "metadata": {},
   "outputs": [],
   "source": [
    "df[df['locality'] == 'Netanya']"
   ]
  },
  {
   "cell_type": "code",
   "execution_count": null,
   "id": "7c3ac5b8-a862-43f7-a75f-e7798b6ebb55",
   "metadata": {},
   "outputs": [],
   "source": [
    "df[df['locality'] == 'Petach Tikva']"
   ]
  },
  {
   "cell_type": "markdown",
   "id": "42d059dd-d857-4a8a-a6ac-5465ef2e3bf5",
   "metadata": {},
   "source": [
    "⚠ **WARNING!** ⚠ \n",
    "Some localities may refer to different original regions at different times (for example: Herzliya may be attributed to Sharon and Dan, Petah Tikva to Yarkon and Dan). This is due to changes in the data in the telegram channel.\n"
   ]
  },
  {
   "cell_type": "markdown",
   "id": "8d411f9d-347c-4479-b0d1-b50d14a534c5",
   "metadata": {},
   "source": [
    "### Checking for duplicates"
   ]
  },
  {
   "cell_type": "code",
   "execution_count": null,
   "id": "46c6af2f-9adb-44cf-9bdd-015c538ee576",
   "metadata": {},
   "outputs": [],
   "source": [
    "print('Number of duplicates:', df.duplicated().sum())"
   ]
  },
  {
   "cell_type": "code",
   "execution_count": null,
   "id": "9bcab54a-20b8-4fb6-85fe-e2eba86d0ce5",
   "metadata": {},
   "outputs": [],
   "source": [
    "df.info()"
   ]
  },
  {
   "cell_type": "markdown",
   "id": "ca9a3b01-89e7-4748-8e56-87339256514e",
   "metadata": {},
   "source": [
    "### Saving the dataframe"
   ]
  },
  {
   "cell_type": "code",
   "execution_count": null,
   "id": "2ce016a0-cfd7-4c8c-bfe8-0821a20089bc",
   "metadata": {},
   "outputs": [],
   "source": [
    "df.to_csv('cumta_df.csv', index=False, encoding='utf-8')"
   ]
  },
  {
   "cell_type": "markdown",
   "id": "87e858c3-e96c-4397-b6fa-60b471de2d5a",
   "metadata": {},
   "source": [
    "## Conclusion\n",
    "**# Data Preprocessing Proces**s:\n",
    "\n",
    "- Initially, we constructed a dataframe where each row corresponded to a single message from the Telegram channel. Each message contained information about warnings spanning several minutes.\n",
    "- Next, we transformed the dataframe so that each row represented a locality. We then merged zones of major cities, assigning the city name to the `'locality'` column, while district names were stored in the `'zones'` column. \n",
    "- If a locality was not a major city, the `'zones'` column was set to `'Al**\n",
    "\n",
    "**Final Processed Dataframe:**\n",
    "\n",
    "- **Total rows:** 57543 \n",
    "- **Duplicates:** None  \n",
    "- **Time column (`'time'`):** Converted to `datetime64[ns]` format  \n",
    "- **Missing value** None  \n",
    "\n",
    "**Columns:**\n",
    "\n",
    "| Column Name | Description |\n",
    "|-------------|------------|\n",
    "| **datetime** | Date and time of the warning in `datetime64[ns]` format |\n",
    "| **locality** | Name of the locality (city, town, or settlement) |\n",
    "| **zones** | Zones within a locality. If the locality is not a major city, this column contains `'All'` |\n",
    "| **region** | Region to which the locality belongs |\n",
    "| **threat_type** | Type of warning. Possible values: `'Red Alert'`, `'Unrecognized Aircraft'`, `'Terrorist Infiltration'`, `'Interception Pieces'`, `'Earthquake'` |\n",
    "| **district** | Administrative district or region where the locality is located; an official governmental division. |\n",
    "\n",
    "This structured dataset is now ready for further analysis and visualization.\n"
   ]
  }
 ],
 "metadata": {
  "kernelspec": {
   "display_name": "Python 3 (ipykernel)",
   "language": "python",
   "name": "python3"
  },
  "language_info": {
   "codemirror_mode": {
    "name": "ipython",
    "version": 3
   },
   "file_extension": ".py",
   "mimetype": "text/x-python",
   "name": "python",
   "nbconvert_exporter": "python",
   "pygments_lexer": "ipython3",
   "version": "3.12.4"
  }
 },
 "nbformat": 4,
 "nbformat_minor": 5
}
